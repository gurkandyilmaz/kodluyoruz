{
 "cells": [
  {
   "cell_type": "code",
   "execution_count": 29,
   "metadata": {},
   "outputs": [
    {
     "data": {
      "text/html": [
       "\n",
       "    <div class=\"bk-root\">\n",
       "        <a href=\"https://bokeh.org\" target=\"_blank\" class=\"bk-logo bk-logo-small bk-logo-notebook\"></a>\n",
       "        <span id=\"5978\">Loading BokehJS ...</span>\n",
       "    </div>"
      ]
     },
     "metadata": {},
     "output_type": "display_data"
    },
    {
     "data": {
      "application/javascript": "\n(function(root) {\n  function now() {\n    return new Date();\n  }\n\n  const force = true;\n\n  if (typeof root._bokeh_onload_callbacks === \"undefined\" || force === true) {\n    root._bokeh_onload_callbacks = [];\n    root._bokeh_is_loading = undefined;\n  }\n\n  const JS_MIME_TYPE = 'application/javascript';\n  const HTML_MIME_TYPE = 'text/html';\n  const EXEC_MIME_TYPE = 'application/vnd.bokehjs_exec.v0+json';\n  const CLASS_NAME = 'output_bokeh rendered_html';\n\n  /**\n   * Render data to the DOM node\n   */\n  function render(props, node) {\n    const script = document.createElement(\"script\");\n    node.appendChild(script);\n  }\n\n  /**\n   * Handle when an output is cleared or removed\n   */\n  function handleClearOutput(event, handle) {\n    const cell = handle.cell;\n\n    const id = cell.output_area._bokeh_element_id;\n    const server_id = cell.output_area._bokeh_server_id;\n    // Clean up Bokeh references\n    if (id != null && id in Bokeh.index) {\n      Bokeh.index[id].model.document.clear();\n      delete Bokeh.index[id];\n    }\n\n    if (server_id !== undefined) {\n      // Clean up Bokeh references\n      const cmd_clean = \"from bokeh.io.state import curstate; print(curstate().uuid_to_server['\" + server_id + \"'].get_sessions()[0].document.roots[0]._id)\";\n      cell.notebook.kernel.execute(cmd_clean, {\n        iopub: {\n          output: function(msg) {\n            const id = msg.content.text.trim();\n            if (id in Bokeh.index) {\n              Bokeh.index[id].model.document.clear();\n              delete Bokeh.index[id];\n            }\n          }\n        }\n      });\n      // Destroy server and session\n      const cmd_destroy = \"import bokeh.io.notebook as ion; ion.destroy_server('\" + server_id + \"')\";\n      cell.notebook.kernel.execute(cmd_destroy);\n    }\n  }\n\n  /**\n   * Handle when a new output is added\n   */\n  function handleAddOutput(event, handle) {\n    const output_area = handle.output_area;\n    const output = handle.output;\n\n    // limit handleAddOutput to display_data with EXEC_MIME_TYPE content only\n    if ((output.output_type != \"display_data\") || (!Object.prototype.hasOwnProperty.call(output.data, EXEC_MIME_TYPE))) {\n      return\n    }\n\n    const toinsert = output_area.element.find(\".\" + CLASS_NAME.split(' ')[0]);\n\n    if (output.metadata[EXEC_MIME_TYPE][\"id\"] !== undefined) {\n      toinsert[toinsert.length - 1].firstChild.textContent = output.data[JS_MIME_TYPE];\n      // store reference to embed id on output_area\n      output_area._bokeh_element_id = output.metadata[EXEC_MIME_TYPE][\"id\"];\n    }\n    if (output.metadata[EXEC_MIME_TYPE][\"server_id\"] !== undefined) {\n      const bk_div = document.createElement(\"div\");\n      bk_div.innerHTML = output.data[HTML_MIME_TYPE];\n      const script_attrs = bk_div.children[0].attributes;\n      for (let i = 0; i < script_attrs.length; i++) {\n        toinsert[toinsert.length - 1].firstChild.setAttribute(script_attrs[i].name, script_attrs[i].value);\n        toinsert[toinsert.length - 1].firstChild.textContent = bk_div.children[0].textContent\n      }\n      // store reference to server id on output_area\n      output_area._bokeh_server_id = output.metadata[EXEC_MIME_TYPE][\"server_id\"];\n    }\n  }\n\n  function register_renderer(events, OutputArea) {\n\n    function append_mime(data, metadata, element) {\n      // create a DOM node to render to\n      const toinsert = this.create_output_subarea(\n        metadata,\n        CLASS_NAME,\n        EXEC_MIME_TYPE\n      );\n      this.keyboard_manager.register_events(toinsert);\n      // Render to node\n      const props = {data: data, metadata: metadata[EXEC_MIME_TYPE]};\n      render(props, toinsert[toinsert.length - 1]);\n      element.append(toinsert);\n      return toinsert\n    }\n\n    /* Handle when an output is cleared or removed */\n    events.on('clear_output.CodeCell', handleClearOutput);\n    events.on('delete.Cell', handleClearOutput);\n\n    /* Handle when a new output is added */\n    events.on('output_added.OutputArea', handleAddOutput);\n\n    /**\n     * Register the mime type and append_mime function with output_area\n     */\n    OutputArea.prototype.register_mime_type(EXEC_MIME_TYPE, append_mime, {\n      /* Is output safe? */\n      safe: true,\n      /* Index of renderer in `output_area.display_order` */\n      index: 0\n    });\n  }\n\n  // register the mime type if in Jupyter Notebook environment and previously unregistered\n  if (root.Jupyter !== undefined) {\n    const events = require('base/js/events');\n    const OutputArea = require('notebook/js/outputarea').OutputArea;\n\n    if (OutputArea.prototype.mime_types().indexOf(EXEC_MIME_TYPE) == -1) {\n      register_renderer(events, OutputArea);\n    }\n  }\n\n  \n  if (typeof (root._bokeh_timeout) === \"undefined\" || force === true) {\n    root._bokeh_timeout = Date.now() + 5000;\n    root._bokeh_failed_load = false;\n  }\n\n  const NB_LOAD_WARNING = {'data': {'text/html':\n     \"<div style='background-color: #fdd'>\\n\"+\n     \"<p>\\n\"+\n     \"BokehJS does not appear to have successfully loaded. If loading BokehJS from CDN, this \\n\"+\n     \"may be due to a slow or bad network connection. Possible fixes:\\n\"+\n     \"</p>\\n\"+\n     \"<ul>\\n\"+\n     \"<li>re-rerun `output_notebook()` to attempt to load from CDN again, or</li>\\n\"+\n     \"<li>use INLINE resources instead, as so:</li>\\n\"+\n     \"</ul>\\n\"+\n     \"<code>\\n\"+\n     \"from bokeh.resources import INLINE\\n\"+\n     \"output_notebook(resources=INLINE)\\n\"+\n     \"</code>\\n\"+\n     \"</div>\"}};\n\n  function display_loaded() {\n    const el = document.getElementById(\"5978\");\n    if (el != null) {\n      el.textContent = \"BokehJS is loading...\";\n    }\n    if (root.Bokeh !== undefined) {\n      if (el != null) {\n        el.textContent = \"BokehJS \" + root.Bokeh.version + \" successfully loaded.\";\n      }\n    } else if (Date.now() < root._bokeh_timeout) {\n      setTimeout(display_loaded, 100)\n    }\n  }\n\n\n  function run_callbacks() {\n    try {\n      root._bokeh_onload_callbacks.forEach(function(callback) {\n        if (callback != null)\n          callback();\n      });\n    } finally {\n      delete root._bokeh_onload_callbacks\n    }\n    console.debug(\"Bokeh: all callbacks have finished\");\n  }\n\n  function load_libs(css_urls, js_urls, callback) {\n    if (css_urls == null) css_urls = [];\n    if (js_urls == null) js_urls = [];\n\n    root._bokeh_onload_callbacks.push(callback);\n    if (root._bokeh_is_loading > 0) {\n      console.debug(\"Bokeh: BokehJS is being loaded, scheduling callback at\", now());\n      return null;\n    }\n    if (js_urls == null || js_urls.length === 0) {\n      run_callbacks();\n      return null;\n    }\n    console.debug(\"Bokeh: BokehJS not loaded, scheduling load and callback at\", now());\n    root._bokeh_is_loading = css_urls.length + js_urls.length;\n\n    function on_load() {\n      root._bokeh_is_loading--;\n      if (root._bokeh_is_loading === 0) {\n        console.debug(\"Bokeh: all BokehJS libraries/stylesheets loaded\");\n        run_callbacks()\n      }\n    }\n\n    function on_error(url) {\n      console.error(\"failed to load \" + url);\n    }\n\n    for (let i = 0; i < css_urls.length; i++) {\n      const url = css_urls[i];\n      const element = document.createElement(\"link\");\n      element.onload = on_load;\n      element.onerror = on_error.bind(null, url);\n      element.rel = \"stylesheet\";\n      element.type = \"text/css\";\n      element.href = url;\n      console.debug(\"Bokeh: injecting link tag for BokehJS stylesheet: \", url);\n      document.body.appendChild(element);\n    }\n\n    for (let i = 0; i < js_urls.length; i++) {\n      const url = js_urls[i];\n      const element = document.createElement('script');\n      element.onload = on_load;\n      element.onerror = on_error.bind(null, url);\n      element.async = false;\n      element.src = url;\n      console.debug(\"Bokeh: injecting script tag for BokehJS library: \", url);\n      document.head.appendChild(element);\n    }\n  };\n\n  function inject_raw_css(css) {\n    const element = document.createElement(\"style\");\n    element.appendChild(document.createTextNode(css));\n    document.body.appendChild(element);\n  }\n\n  \n  const js_urls = [\"https://cdn.bokeh.org/bokeh/release/bokeh-2.4.2.min.js\", \"https://cdn.bokeh.org/bokeh/release/bokeh-gl-2.4.2.min.js\", \"https://cdn.bokeh.org/bokeh/release/bokeh-widgets-2.4.2.min.js\", \"https://cdn.bokeh.org/bokeh/release/bokeh-tables-2.4.2.min.js\", \"https://cdn.bokeh.org/bokeh/release/bokeh-mathjax-2.4.2.min.js\"];\n  const css_urls = [];\n  \n\n  const inline_js = [\n    function(Bokeh) {\n      Bokeh.set_log_level(\"info\");\n    },\n    function(Bokeh) {\n    \n    \n    }\n  ];\n\n  function run_inline_js() {\n    \n    if (root.Bokeh !== undefined || force === true) {\n      \n    for (let i = 0; i < inline_js.length; i++) {\n      inline_js[i].call(root, root.Bokeh);\n    }\n    if (force === true) {\n        display_loaded();\n      }} else if (Date.now() < root._bokeh_timeout) {\n      setTimeout(run_inline_js, 100);\n    } else if (!root._bokeh_failed_load) {\n      console.log(\"Bokeh: BokehJS failed to load within specified timeout.\");\n      root._bokeh_failed_load = true;\n    } else if (force !== true) {\n      const cell = $(document.getElementById(\"5978\")).parents('.cell').data().cell;\n      cell.output_area.append_execute_result(NB_LOAD_WARNING)\n    }\n\n  }\n\n  if (root._bokeh_is_loading === 0) {\n    console.debug(\"Bokeh: BokehJS loaded, going straight to plotting\");\n    run_inline_js();\n  } else {\n    load_libs(css_urls, js_urls, function() {\n      console.debug(\"Bokeh: BokehJS plotting callback run at\", now());\n      run_inline_js();\n    });\n  }\n}(window));",
      "application/vnd.bokehjs_load.v0+json": ""
     },
     "metadata": {},
     "output_type": "display_data"
    }
   ],
   "source": [
    "import os\n",
    "from pathlib import Path\n",
    "from typing import Dict\n",
    "from zipfile import ZipFile\n",
    "\n",
    "from dotenv import find_dotenv, load_dotenv\n",
    "\n",
    "import pandas as pd\n",
    "import numpy as np\n",
    "import matplotlib.pyplot as plt\n",
    "import seaborn\n",
    "from bokeh import plotting, models\n",
    "from bokeh.io import output_notebook\n",
    "\n",
    "output_notebook()\n",
    "load_dotenv(find_dotenv())\n",
    "DATA_ZIP = os.getenv('DATA_DIR_HAPPINESS')"
   ]
  },
  {
   "cell_type": "code",
   "execution_count": 124,
   "metadata": {},
   "outputs": [],
   "source": [
    "def read_data(zip_file: str) -> Dict[int, pd.DataFrame]:\n",
    "    csv_files = dict()\n",
    "    with ZipFile(zip_file) as zip_data:\n",
    "        print(zip_data.namelist())\n",
    "        for csv_file in zip_data.namelist():\n",
    "            year = Path(csv_file).stem\n",
    "            csv_files[int(year)] = pd.read_csv(zip_data.open(csv_file))\n",
    "    \n",
    "    return csv_files\n",
    "\n",
    "def merge_data(all_data: Dict[int, pd.DataFrame]) -> pd.DataFrame:\n",
    "    all_dfs = []\n",
    "    columns_to_rename = [\n",
    "        'Country', 'Score', 'Rank', 'GDP', 'Health', 'Corruption', 'Freedom',\n",
    "        'Generosity'\n",
    "    ]\n",
    "    \n",
    "    for year, dataframe in all_data.items():\n",
    "        single_df = []\n",
    "        for column_name in columns_to_rename:\n",
    "            col = dataframe.columns.str.contains(column_name, case=False)\n",
    "            if any(col):\n",
    "                tmp_df = dataframe.loc[:, col]\n",
    "                # print(year, tmp_df.columns)\n",
    "                tmp_df.columns = [column_name]\n",
    "                single_df.append(tmp_df)\n",
    "\n",
    "        df_single_year = pd.concat(single_df, axis='columns')\n",
    "        df_single_year['Year'] = year\n",
    "        all_dfs.append(df_single_year)\n",
    "    \n",
    "    return pd.concat(all_dfs, axis='index', ignore_index=True)"
   ]
  },
  {
   "cell_type": "code",
   "execution_count": 125,
   "metadata": {},
   "outputs": [
    {
     "name": "stdout",
     "output_type": "stream",
     "text": [
      "['2015.csv', '2016.csv', '2017.csv', '2018.csv', '2019.csv']\n"
     ]
    }
   ],
   "source": [
    "all_data = read_data(zip_file=DATA_ZIP)"
   ]
  },
  {
   "cell_type": "code",
   "execution_count": 126,
   "metadata": {},
   "outputs": [],
   "source": [
    "all_data_merged = merge_data(all_data=all_data)"
   ]
  },
  {
   "cell_type": "code",
   "execution_count": 127,
   "metadata": {},
   "outputs": [
    {
     "data": {
      "text/html": [
       "<div>\n",
       "<style scoped>\n",
       "    .dataframe tbody tr th:only-of-type {\n",
       "        vertical-align: middle;\n",
       "    }\n",
       "\n",
       "    .dataframe tbody tr th {\n",
       "        vertical-align: top;\n",
       "    }\n",
       "\n",
       "    .dataframe thead th {\n",
       "        text-align: right;\n",
       "    }\n",
       "</style>\n",
       "<table border=\"1\" class=\"dataframe\">\n",
       "  <thead>\n",
       "    <tr style=\"text-align: right;\">\n",
       "      <th></th>\n",
       "      <th>Score</th>\n",
       "      <th>Rank</th>\n",
       "      <th>GDP</th>\n",
       "      <th>Health</th>\n",
       "      <th>Corruption</th>\n",
       "      <th>Freedom</th>\n",
       "      <th>Generosity</th>\n",
       "      <th>Year</th>\n",
       "    </tr>\n",
       "  </thead>\n",
       "  <tbody>\n",
       "    <tr>\n",
       "      <th>count</th>\n",
       "      <td>782.000000</td>\n",
       "      <td>782.000000</td>\n",
       "      <td>782.000000</td>\n",
       "      <td>782.000000</td>\n",
       "      <td>781.000000</td>\n",
       "      <td>782.000000</td>\n",
       "      <td>782.000000</td>\n",
       "      <td>782.000000</td>\n",
       "    </tr>\n",
       "    <tr>\n",
       "      <th>mean</th>\n",
       "      <td>5.379018</td>\n",
       "      <td>78.698210</td>\n",
       "      <td>0.916047</td>\n",
       "      <td>0.612416</td>\n",
       "      <td>0.125436</td>\n",
       "      <td>0.411091</td>\n",
       "      <td>0.218576</td>\n",
       "      <td>2016.993606</td>\n",
       "    </tr>\n",
       "    <tr>\n",
       "      <th>std</th>\n",
       "      <td>1.127456</td>\n",
       "      <td>45.182384</td>\n",
       "      <td>0.407340</td>\n",
       "      <td>0.248309</td>\n",
       "      <td>0.105816</td>\n",
       "      <td>0.152880</td>\n",
       "      <td>0.122321</td>\n",
       "      <td>1.417364</td>\n",
       "    </tr>\n",
       "    <tr>\n",
       "      <th>min</th>\n",
       "      <td>2.693000</td>\n",
       "      <td>1.000000</td>\n",
       "      <td>0.000000</td>\n",
       "      <td>0.000000</td>\n",
       "      <td>0.000000</td>\n",
       "      <td>0.000000</td>\n",
       "      <td>0.000000</td>\n",
       "      <td>2015.000000</td>\n",
       "    </tr>\n",
       "    <tr>\n",
       "      <th>25%</th>\n",
       "      <td>4.509750</td>\n",
       "      <td>40.000000</td>\n",
       "      <td>0.606500</td>\n",
       "      <td>0.440183</td>\n",
       "      <td>0.054000</td>\n",
       "      <td>0.309768</td>\n",
       "      <td>0.130000</td>\n",
       "      <td>2016.000000</td>\n",
       "    </tr>\n",
       "    <tr>\n",
       "      <th>50%</th>\n",
       "      <td>5.322000</td>\n",
       "      <td>79.000000</td>\n",
       "      <td>0.982205</td>\n",
       "      <td>0.647310</td>\n",
       "      <td>0.091000</td>\n",
       "      <td>0.431000</td>\n",
       "      <td>0.201982</td>\n",
       "      <td>2017.000000</td>\n",
       "    </tr>\n",
       "    <tr>\n",
       "      <th>75%</th>\n",
       "      <td>6.189500</td>\n",
       "      <td>118.000000</td>\n",
       "      <td>1.236187</td>\n",
       "      <td>0.808000</td>\n",
       "      <td>0.156030</td>\n",
       "      <td>0.531000</td>\n",
       "      <td>0.278832</td>\n",
       "      <td>2018.000000</td>\n",
       "    </tr>\n",
       "    <tr>\n",
       "      <th>max</th>\n",
       "      <td>7.769000</td>\n",
       "      <td>158.000000</td>\n",
       "      <td>2.096000</td>\n",
       "      <td>1.141000</td>\n",
       "      <td>0.551910</td>\n",
       "      <td>0.724000</td>\n",
       "      <td>0.838075</td>\n",
       "      <td>2019.000000</td>\n",
       "    </tr>\n",
       "  </tbody>\n",
       "</table>\n",
       "</div>"
      ],
      "text/plain": [
       "            Score        Rank         GDP      Health  Corruption     Freedom  \\\n",
       "count  782.000000  782.000000  782.000000  782.000000  781.000000  782.000000   \n",
       "mean     5.379018   78.698210    0.916047    0.612416    0.125436    0.411091   \n",
       "std      1.127456   45.182384    0.407340    0.248309    0.105816    0.152880   \n",
       "min      2.693000    1.000000    0.000000    0.000000    0.000000    0.000000   \n",
       "25%      4.509750   40.000000    0.606500    0.440183    0.054000    0.309768   \n",
       "50%      5.322000   79.000000    0.982205    0.647310    0.091000    0.431000   \n",
       "75%      6.189500  118.000000    1.236187    0.808000    0.156030    0.531000   \n",
       "max      7.769000  158.000000    2.096000    1.141000    0.551910    0.724000   \n",
       "\n",
       "       Generosity         Year  \n",
       "count  782.000000   782.000000  \n",
       "mean     0.218576  2016.993606  \n",
       "std      0.122321     1.417364  \n",
       "min      0.000000  2015.000000  \n",
       "25%      0.130000  2016.000000  \n",
       "50%      0.201982  2017.000000  \n",
       "75%      0.278832  2018.000000  \n",
       "max      0.838075  2019.000000  "
      ]
     },
     "execution_count": 127,
     "metadata": {},
     "output_type": "execute_result"
    }
   ],
   "source": [
    "all_data_merged.describe()"
   ]
  },
  {
   "cell_type": "markdown",
   "metadata": {},
   "source": [
    "#### Correlation Between Happiness Score and Other Factors"
   ]
  },
  {
   "cell_type": "code",
   "execution_count": 134,
   "metadata": {},
   "outputs": [
    {
     "data": {
      "image/png": "[encoded data removed]",
      "text/plain": [
       "<Figure size 576x576 with 2 Axes>"
      ]
     },
     "metadata": {
      "needs_background": "light"
     },
     "output_type": "display_data"
    }
   ],
   "source": [
    "corr = all_data_merged.select_dtypes(include='float').corr()\n",
    "figure, axes = plt.subplots(1,1, figsize=(8,8))\n",
    "axes.set_title('Correlation Diagram')\n",
    "seaborn.heatmap(corr, annot=True, ax=axes)\n",
    "plt.show()"
   ]
  },
  {
   "cell_type": "markdown",
   "metadata": {},
   "source": [
    "- GDP per capita and Health(Life Expectancy) columns are correlated with the happiness score in a strong positive way.\n",
    "- There is a moderate positive correlation between Corruption, Freedom and the happiness score.\n",
    "- There is a small correlation between Generosity and the happiness score.\n",
    "\n",
    "GDP Per Capita and Life Expectancy play an important role for people's happiness"
   ]
  },
  {
   "cell_type": "markdown",
   "metadata": {},
   "source": [
    "#### Bubble Charts"
   ]
  },
  {
   "cell_type": "code",
   "execution_count": 135,
   "metadata": {},
   "outputs": [],
   "source": [
    "# Normalize Happiness score to use as bubbles' radius\n",
    "numerator = (all_data_merged['Score'] - all_data_merged['Score'].min())\n",
    "denominator = (all_data_merged['Score'].max() - all_data_merged['Score'].min())\n",
    "all_data_merged['Score_normalized'] = 0.03 * (numerator / denominator)\n",
    "source_2015 = models.ColumnDataSource(all_data_merged.set_index('Year').loc[2015, :])\n",
    "source_2016 = models.ColumnDataSource(all_data_merged.set_index('Year').loc[2016, :])\n",
    "source_2017 = models.ColumnDataSource(all_data_merged.set_index('Year').loc[2017, :])\n",
    "source_2018 = models.ColumnDataSource(all_data_merged.set_index('Year').loc[2018, :])\n",
    "source_2019 = models.ColumnDataSource(all_data_merged.set_index('Year').loc[2019, :])"
   ]
  },
  {
   "cell_type": "code",
   "execution_count": 137,
   "metadata": {},
   "outputs": [
    {
     "data": {
      "text/html": [
       "\n",
       "\n",
       "\n",
       "\n",
       "\n",
       "\n",
       "  <div class=\"bk-root\" id=\"b7b2cc39-eaa9-4405-9c09-7f703e1d5a53\" data-root-id=\"43083\"></div>\n"
      ]
     },
     "metadata": {},
     "output_type": "display_data"
    },
    {
     "data": {
      "application/javascript": "(function(root) {\n  function embed_document(root) {\n    \n  const docs_json = {\"7c1e9511-50c9-492b-9486-0c0e5a7ce061\":{\"defs\":[],\"roots\":{\"references\":[{\"attributes\":{\"below\":[{\"id\":\"43094\"}],\"center\":[{\"id\":\"43097\"},{\"id\":\"43101\"},{\"id\":\"43134\"}],\"height\":400,\"left\":[{\"id\":\"43098\"}],\"renderers\":[{\"id\":\"43122\"},{\"id\":\"43140\"},{\"id\":\"43159\"}],\"title\":{\"id\":\"43084\"},\"toolbar\":{\"id\":\"43110\"},\"width\":1200,\"x_range\":{\"id\":\"43086\"},\"x_scale\":{\"id\":\"43090\"},\"y_range\":{\"id\":\"43088\"},\"y_scale\":{\"id\":\"43092\"}},\"id\":\"43083\",\"subtype\":\"Figure\",\"type\":\"Plot\"},{\"attributes\":{},\"id\":\"43106\",\"type\":\"ResetTool\"},{\"attributes\":{},\"id\":\"43092\",\"type\":\"LinearScale\"},{\"attributes\":{\"tools\":[{\"id\":\"43102\"},{\"id\":\"43103\"},{\"id\":\"43104\"},{\"id\":\"43105\"},{\"id\":\"43106\"},{\"id\":\"43107\"},{\"id\":\"43109\"}]},\"id\":\"43110\",\"type\":\"Toolbar\"},{\"attributes\":{\"fill_alpha\":{\"value\":0.4},\"fill_color\":{\"value\":\"blue\"},\"hatch_alpha\":{\"value\":0.4},\"hatch_color\":{\"value\":\"blue\"},\"line_alpha\":{\"value\":0.4},\"line_color\":{\"value\":\"blue\"},\"radius\":{\"field\":\"Score_normalized\"},\"x\":{\"field\":\"GDP\"},\"y\":{\"field\":\"Health\"}},\"id\":\"43137\",\"type\":\"Circle\"},{\"attributes\":{\"click_policy\":\"hide\",\"coordinates\":null,\"group\":null,\"items\":[{\"id\":\"43135\"},{\"id\":\"43154\"},{\"id\":\"43175\"}]},\"id\":\"43134\",\"type\":\"Legend\"},{\"attributes\":{\"overlay\":{\"id\":\"43108\"}},\"id\":\"43104\",\"type\":\"BoxZoomTool\"},{\"attributes\":{\"bottom_units\":\"screen\",\"coordinates\":null,\"fill_alpha\":0.5,\"fill_color\":\"lightgrey\",\"group\":null,\"left_units\":\"screen\",\"level\":\"overlay\",\"line_alpha\":1.0,\"line_color\":\"black\",\"line_dash\":[4,4],\"line_width\":2,\"right_units\":\"screen\",\"syncable\":false,\"top_units\":\"screen\"},\"id\":\"43108\",\"type\":\"BoxAnnotation\"},{\"attributes\":{\"fill_alpha\":{\"value\":0.2},\"fill_color\":{\"value\":\"olive\"},\"hatch_alpha\":{\"value\":0.2},\"hatch_color\":{\"value\":\"olive\"},\"line_alpha\":{\"value\":0.2},\"line_color\":{\"value\":\"olive\"},\"radius\":{\"field\":\"Score_normalized\"},\"x\":{\"field\":\"GDP\"},\"y\":{\"field\":\"Health\"}},\"id\":\"43121\",\"type\":\"Circle\"},{\"attributes\":{\"data\":{\"Corruption\":{\"__ndarray__\":\"y/Pg7qzd2j8ldQKaCBvCP/vo1JXP8t4/scQDyqZc1z+5iO/ErBfVPybfbHNjeto/Birj32dc1D8Bh1ClZg/cP/GAsilXeNs/H6LRHcTO1j+SXP5D+u2zP7mI78SsF7s/D7kZbsDnxz+Bzw8jhEfLP5/Nqs/VVsQ/BVH3AUhtxj9wsaIG0zDYP+YivhOzXtI/7lpCPujZzD8aNPRPcLHYP4S7s3bbhdQ/cHfWbrvQ1D+Dhv4JLla8P3Qkl/+Qft8/0NVW7C+7tz9Mjjulg/XLPyk/qfbpeMA/aam8HeG04D8FUfcBSG3KPw6EZAETuLU/Y3rCEg8omz9znUZaKm/PPy1DHOviNqo/N3Fyv0NRoD9wd9Zuu9DUP8UbmUf+YLA/3dJqSNxjwT866X3ja8+0P/lJtU/HY9A/3lm77UJzwT/UK2UZ4liHP9rmxvSEJb4/VvFG5pE/uD+0jqomiLrTPzf92Y8UkaE/PSzUmuYdxz8+XHLcKR20P9ZW7C+7J8c/L90kBoGV0z+GIAclzLSdP7pJDAIrh7Y/YVRSJ6CJkD9ETIkkehm1P9wuNNdppLU/FsH/VrJjoz/o9pLGaB2FP7a+SGjLucg/YAK37uaprj8dOGdEaW/IP6nZA63AkKU//cHAc+/huj/D0ytlGeKYP5y/CYUIOLw/2qz6XG3Fnj/tR4rIsIqXP9c07zhFR8I/1jkGZK93rz+rJoi6D0DGP2e4AZ8fRqg/r84xIHu90z9wCFVq9kCzP/zjvWplwtc/AcEcPX5vwz8AAAAAAAAAAJgXYB+duro/8s02N6YnxD/t9e6P96qlP+C+DpwzoqQ/aQBvgQTFwz9xGw3gLZDEPwt72uGvybo/CAPPvYdLwj+xbVFmg0zCP2DNAYI5epw/lxx3Sgfrvz+FQgQcQpV6P3iXi/hOzJo/+WabG9MThj+9xi5RvTWwP3OdRloqb78/r5l8s82N2T+pvB3htOC1P0pBt5c0Rqs/1PGYgcr4wz9fRrHc0mqwPw2mYfiImGI/N45Yi08BwD9j0XR2MjjCP32zzY3pCc8/WwhyUMJMmz9LyAc9m1WfP+o+AKlNnIw/hGQBE7h1pz+SPxh47j2cP0a28/3UeLE/CTNt/8pKwz+C/61kx0awPxQ/xty1hMA/LZW3I5wWwD+GAyFZwASuPxnKiXYVUp4/oOBiRQ2mwT+unpPeN762PyNKe4MvTKY/5gXYR6eutD8qAMYzaOivP+i8xi5RvbU/FvvL7snDwj+WQ4ts5/vFP4XrUbgehbM/5nRZTGw+rj/C3Vm77ULDPzxmoDL+fbY/0vvG155Zxj9ortNIS+WtP3icoiO5/NE/K4cW2c73oz87x4Ds9e6/PyJxj6UPXcg/Y7SOqiaI2D947j1cctyxPx2PGaiMf7c/HT1+b9OfrT9dp5GWytuBP+ONzCN/MLA/7IZtizIbtD/sNNJSeTuyPzvkZrgBn78/Q+c1donqvT9GtvP91HjJP197ZkmAmrI/lKRrJt9suz/boswGmWS8P7/xtWeWBMQ/Pu3w12SNsj/NkgA1tWytP7KFIAclzLQ/R1oqb0c4tT/uCKcFL/qqP4i6D0BqE78/4gFlU67wxj+wG7YtymzAP6iMf59x4bg/RbsKKT+p4T+M22gAb4G0P1CqfToeM8g/NdJSeTvCuT9/pIgMq3i7Pw==\",\"dtype\":\"float64\",\"order\":\"little\",\"shape\":[158]},\"Country\":[\"Switzerland\",\"Iceland\",\"Denmark\",\"Norway\",\"Canada\",\"Finland\",\"Netherlands\",\"Sweden\",\"New Zealand\",\"Australia\",\"Israel\",\"Costa Rica\",\"Austria\",\"Mexico\",\"United States\",\"Brazil\",\"Luxembourg\",\"Ireland\",\"Belgium\",\"United Arab Emirates\",\"United Kingdom\",\"Oman\",\"Venezuela\",\"Singapore\",\"Panama\",\"Germany\",\"Chile\",\"Qatar\",\"France\",\"Argentina\",\"Czech Republic\",\"Uruguay\",\"Colombia\",\"Thailand\",\"Saudi Arabia\",\"Spain\",\"Malta\",\"Taiwan\",\"Kuwait\",\"Suriname\",\"Trinidad and Tobago\",\"El Salvador\",\"Guatemala\",\"Uzbekistan\",\"Slovakia\",\"Japan\",\"South Korea\",\"Ecuador\",\"Bahrain\",\"Italy\",\"Bolivia\",\"Moldova\",\"Paraguay\",\"Kazakhstan\",\"Slovenia\",\"Lithuania\",\"Nicaragua\",\"Peru\",\"Belarus\",\"Poland\",\"Malaysia\",\"Croatia\",\"Libya\",\"Russia\",\"Jamaica\",\"North Cyprus\",\"Cyprus\",\"Algeria\",\"Kosovo\",\"Turkmenistan\",\"Mauritius\",\"Hong Kong\",\"Estonia\",\"Indonesia\",\"Vietnam\",\"Turkey\",\"Kyrgyzstan\",\"Nigeria\",\"Bhutan\",\"Azerbaijan\",\"Pakistan\",\"Jordan\",\"Montenegro\",\"China\",\"Zambia\",\"Romania\",\"Serbia\",\"Portugal\",\"Latvia\",\"Philippines\",\"Somaliland region\",\"Morocco\",\"Macedonia\",\"Mozambique\",\"Albania\",\"Bosnia and Herzegovina\",\"Lesotho\",\"Dominican Republic\",\"Laos\",\"Mongolia\",\"Swaziland\",\"Greece\",\"Lebanon\",\"Hungary\",\"Honduras\",\"Tajikistan\",\"Tunisia\",\"Palestinian Territories\",\"Bangladesh\",\"Iran\",\"Ukraine\",\"Iraq\",\"South Africa\",\"Ghana\",\"Zimbabwe\",\"Liberia\",\"India\",\"Sudan\",\"Haiti\",\"Congo (Kinshasa)\",\"Nepal\",\"Ethiopia\",\"Sierra Leone\",\"Mauritania\",\"Kenya\",\"Djibouti\",\"Armenia\",\"Botswana\",\"Myanmar\",\"Georgia\",\"Malawi\",\"Sri Lanka\",\"Cameroon\",\"Bulgaria\",\"Egypt\",\"Yemen\",\"Angola\",\"Mali\",\"Congo (Brazzaville)\",\"Comoros\",\"Uganda\",\"Senegal\",\"Gabon\",\"Niger\",\"Cambodia\",\"Tanzania\",\"Madagascar\",\"Central African Republic\",\"Chad\",\"Guinea\",\"Ivory Coast\",\"Burkina Faso\",\"Afghanistan\",\"Rwanda\",\"Benin\",\"Syria\",\"Burundi\",\"Togo\"],\"Freedom\":{\"__ndarray__\":\"6lvmdFlM5T/mllZD4h7kP7ml1ZC4x+Q/dc3km21u5T/+KytNSkHkP5tyhXe5iOQ/MevFUE604z9b07zjFB3lP2fttgvNdeQ/9Bq7RPXW5D/9MEJ4tHHaPytqMA3DR+Q/fCx96IL64z9LsDic+dXeP9PZyeAoeeE/avZAKzBk3z9pqbwd4bTjP79lTpfFxOM/TmIQWDm04j/yBwPPvYfkPxSuR+F6FOM/j9/b9Gc/5D8SiNf1C3bbPyOhLedSXOE/1CtlGeJY4T9A+5EiMqzjP62GxD2WPtw/A3gLJCh+5D9fe2ZJgJrhP5v+7EeKyNw/I4RHG0es3T/GxObj2lDjP+tWz0nvG+E/cqd0sP7P4T8e+YOB597TP2LWi6GcaN0/cF8HzhlR4z+si9toAG/ZP99sc2N6wuE/gsr49xkX4z/gSnZsBOLhP23n+6nx0tk/Yf2fw3x54j8czvxqDhDlPxnKiXYVUtQ//kP67evA3z+p9ul4zEDVP4P6ljldFt8/6PaSxmgd3T/t0/GYgcrQPwFqatlaX+I/xuHMr+YA1T+P39v0Zz/hP9fAVgkWh+A/t2J/2T154z8a+ie4WFHLP42XbhKDwOE/dHtJY7SO2j8rajANw0fYP1Zl3xXB/+A/SP5g4Ln34D/GUE60q5DQPwltOZfiqto/Yf2fw3x51z+jWG5pNSTgP1RvDWyVYN8/gUOoUrMH2j+YhuEjYkrSPyAkC5jArc8/1QloImx43j+NnIU97fDhP/uWOV0WE+M/0QX1LXO63D/4qpUJv9TdP0vl7QinBeM/FYxK6gQ0zT/6CtKMRdPbPygn2lVI+dU/9E9wsaIG4T/7XG3F/rLXP5dzKa4q+74/9n8O8+UF2j/l8h/Sb1/HP3trYKsEi+A/AIxn0NA/3z82H9eGinHWP811GmmpvMk/8YCyKVd44D+vWpnwS/3SP/kP6bevA+Q/cqd0sP7P3T/mBdhHp67aPwtBDkqYadU/f4eiQJ/I1T+tTPilft7WPybkg57Nqrc/huY6jbRU1D8xX16AfXTiP+F/K9mxEeM/smMjEK/r2z875Ga4AZ/TP2h5HtydtbM/hiAHJcy01T9324XmOo3UP4vgfyvZsdk/1q2ek9433j/IDFTGv8/QP89r7BLVW88/coqO5PIf2j/UfQBSmzjTP4eKcf4mFNA/AAAAAAAAAADi5H6HokDVP346HjNQGds/sMka9RCN0D9RMc7fhELSP2a9GMqJdtk/OxkcJa/OuT/dJAaBlUPPP+VhodY078w/VU0QdR+A2D8CK4cW2c7bP/rt68A5I9o/FVeVfVcEzz/caABvgQTbP+lg/Z/DfN0/81meB3dnyT/M7snDQq3fP12Kq8q+K9w/uarsuyL42T91q+ek943bP+FdLuI7MeE/VwT/W8mO3z8W9rTDX5PTPxv1EI3uIMY/3Qw34PPD1j+FQgQcQpW6P+c6jbRU3tg/J2a9GMqJ2j+FtpxLcVXNP2tI3GPpQ90/m3KFd7mI1z+wG7YtymzUP4S7s3bbhd4/pg9dUN8y5T9fDOVEuwrVPyBGCI82jsg/Yygn2lVI3z+i0R3EzhTOP76fGi/dJNg/A2A8g4b+3T/YZI16iEbZP3+8V61M+M0/b/Wc9L7x4j81XrpJDALfP6UxWkdVE8Q/vHSTGARWvj/cSxqjdVTXPw==\",\"dtype\":\"float64\",\"order\":\"little\",\"shape\":[158]},\"GDP\":{\"__ndarray__\":\"Y5eo3hpY9j/Y0w5/Tdb0P4UIOIQqNfU/8tJNYhBY9z9/MPDcezj1P76fGi/dpPQ/aOif4GJF9T87GRwlr071P//PYb68APQ/Sphp+1dW9T8qjC0EOajzP9l3RfC/le4/aK7TSEtl9T9OKETAIVTwP44ev7fpT/Y/g92wbVFm7z+gMv59xgX5PwA6zJcXYPU/IuAQqtTs9D+g/UgRGdb2PxcrajANQ/Q/pWYPtALD9T/3zJIANbXwP+9yEd+JWfg/wAmFCDgE8T/lRLsKKT/1Py1DHOvitvE/shGI1/UL+z/gufdwyXH0P7MkQE0t2/A/kzXqIRrd8j+xijcyj/zwP/fpeMxAZe0/qRPQRNjw7j+ILqhvmVP2P5G4x9KHrvM/4QuTqYJR8z8rpPyk2qf0PzygbMoV3vg/C9KMRdPZ7z+k/KTap2PzP557D5ccd+g/7PoFu2Hb5z/p1JXP8jzkP0563/jas/I/MIFbd/NU9D+ZZOQs7OnzP6DgYkUNpus/IAw89x4u9T+iemtgqwT0P+gTeZJ0zeU/2QjE6/oF4z//snvysFDoP706x4Ds9fE/EqCmlq318j9e1y/YDVvyP5ZDi2zn++I/rvVFQlvO7D/CacGLvoLwP240gLdAAvI/yEEJM23/8T8Zyol2FVLxP3zysFBrGvI/a/EpAMYz8j+to6oJou7pPzGx+bg2VPM/TRB1H4BU8z8Ct+7mqQ7uPxK9jGK5pek/z04GR8mr7j8B9tGpKx/wP1oqb0c4LfY/r+sX7IZt8j/hQEgWMIHqPwrcupunOuQ/fVwbKsb58D97ZkmAmlrePzhnRGlv8OQ/8+UF2Een6D8ZOQt72mHwPz3VITfDDeM/sKw0KQXd7D8gDDz3Hi7vPyR/MPDce+w/mFEst7Qa3j/gLZCg+LHwP4WUn1T7dO0/kNrEyf2O8j9XYMjqVs/xP/zepj/7keY/q3gj88gfyD/esG1RZoPnPxWRYRVvZO0/TaHzGrtEtT8DPj+MEB7sP6gAGM+goeo/8x/Sb18H2D+COXr83qbsP4LF4cyv5uI/xvmbUIiA6j+3RZkNMsnmP7vyWZ4Hd/I/1IIXfQVp8D+scwzIXu/xP3fzVIfcDOM/dmwE4nX92D+KyLCKNzLsPw4V4/xNKOM/xXJLqyFx2T/cRgN4CyTwP/zepj/7kek/DB8RUyKJ7z/4cMlxp3TtP/ZAKzBkdeE/8tJNYhBY0T+1pnnHKTqyP8DnhxHCo+Q/sacd/pqs4D9SLLe0GhLRPwAAAAAAAAAAtqFinL8J1z+22y4012nIP8Iv9fOmItU/5A8GnnsP3T/Wi6GcaFfXP5MYBFYOLdw/oblOIy2V6D8JG55eKcvvPyhhpu1fWdE/duCcEaW95z+wG7YtymyQPwr0iTxJuuo/CtejcD0K2z8ZHCWvzjHwPw+cM6K0N+w/zemymNh84T8dA7LXuz/oPx2UMNP2r9A/uk4jLZW35T+2EOSghJnOP1GlZg+0Ass/z2vsEtVb1z+fk943vvbwP4enV8oyxLE/9ODurN123T/GbTSAt0DSP4EJ3Lqbp8o/f2q8dJMYtD+nXOFdLuLVP3rf+NozS8Y/KlJhbCHI3T+iYpy/CYXQP4DUJk7ud9Q/Pj+MEB5tzD9jf9k9eVjSP2Kh1jTvOOU/S8gHPZtVjz/ZJaq3BrbKPw==\",\"dtype\":\"float64\",\"order\":\"little\",\"shape\":[158]},\"Generosity\":{\"__ndarray__\":\"H9eGinH+0j/Oqs/VVuzbP7ecS3FV2dU/on+CixU11j+oHf6arFHdP6T8pNqn480/1QloImx43j+FCDiEKjXXPy140VeQZt4//vFetTLh2z+0dtuF5jrVP/2C3bBtUdA/d6G5TiMt1T/dmJ6wxAPCPybkg57Nqtk/gQncupunwj9TrvAuF/HRP41donprYN0/exSuR+F6zD8LKT+p9unQP3hi1ouhnOA/wsBz7+GSyz/VyoRf6uetP2PuWkI+6NM/2GSNeohGzz8fLjnulA7SPwq6vaQxWtU/f95UpMLY1D8ZVvFG5pG/PzihEAGHUL0/syRATS1buz86kst/SL/NP+iHEcKjjcc/4umVsgxx4j9BfcucLovBP6JdhZSfVMc/VtRgGoaP4D8EHEKVmj3QP6G+ZU6XxcQ/yLWhYpy/xT9TP28qUmHUP1fPSe8bX7s/D9b/OcyX0T9BmrFoOjvNP48ZqIx/n8U/umsJ+aBnuz84Mo/8wcDHP8+goX+Ci70/DDz3Hi45xj+CqPsApDbNPygK9Ik8Sco/xawXQznRyj8noImw4enVP0kRGVbxRr4/vcYuUb010D+zQSYZOQubPz55WKg1zdE/PrMkQE0twz8QI4RHG0e8P2t9kdCWc8U/XrpJDAIr1T86QDBHj9+rP0LPZtXnasc/k8ZoHVVNYD8ibHh6pSzLP+Qs7GmHv9A/soAJ3Lqb0z+Do+TVOQa0P67YX3ZPHtI/JAuYwK27xT+A8Qwa+ifYPzJaR1UTRNk/8fRKWYY4tj+Sy39Iv33gP02EDU+vlMU/rmTHRiBevz+ASL99HTjTPz0P7s7abdE/K/uuCP633j8QQGoTJ/ezPz8djxmojNU/zxQ6r7FLvD/whclUwajEPzJ3LSEf9LQ/T8x6MZQTyT9+Uu3T8ZjBPyHNWDSdncg/c0urIXGPwT8VOq+xS1THPwXAeAYN/c8/fAqA8Qwa4D9AGHjuPVyyP8o329yYnsw//reSHRuBzD9qGD4ipkTCP8VVZd8Vwc8/J/c7FAX6xD9TeTvCacHLP//PYb68ANs/v30dOGdE1T9Xz0nvG1/HPwAAAAAAAAAAYhVvZB75yz/8qfHSTWLAP2H9n8N8ec0/DqFKzR5ozT9KRs7CnnawP+gTeZJ0zbw/tU/HYwYqyz8csRafAmDYP1pkO99PjcM/4gFlU67wxj/YnlkSoKa+P5NS0O0ljc0/Ieo+AKlNyD8CZVOu8C7PP4ts5/up8dA/oFT7dDxmyD+sOUAwR4/dPyjyJOmayc8/XqJ6a2Cr1D+JQWDl0CLPP+FASBYwgcs/1XjpJjEIzD+e6pCb4QbYP3/Bbti2KMc/B84ZUdobtD+5pdWQuMe6P51LcVXZd+k/LXjRV5BmrD+IaHQHsTPVP6gY529CIdo/h22LMhtkyj9NLVvri4S+PyswZHWr57w/ADrMlxdgtz9gqwSLw5m/P4+qJoi6D8g/EeSghJm2vz/CNAwfEVPGP9FXkGYsmtI/BK3AkNWtyj/04O6s3XaxP3B31m670Mg/aoe/JmvU2T+OI9biUwDWPx+6oL5lTss/bjSAt0CCzj+bcoV3uYjHPyzxgLIpV9I/5IOezarPyT8uOe6UDtbLPyBB8WPMXdc/n5PeN772zD/l8h/Sb1/HPxkcJa/OMd4/jq89syRAyT9EqFKzB1rFPw==\",\"dtype\":\"float64\",\"order\":\"little\",\"shape\":[158]},\"Health\":{\"__ndarray__\":\"HCWvzjEg7j+G5jqNtFTuPwXAeAYN/es/+vIC7KNT7D/t2AjE6/rsP2t9kdCWc+w/w/ARMSWS7D9nCp3X2CXtP1NcVfZdEe0/V2DI6lbP7T/mdFlMbD7tP4Fbd/NUh+s/yol2FVJ+7D9WvJF55A/qP4eiQJ/Ik+s/rg0V4/xN5j9Hj9/b9GftP/QVpBmLpuw//bypSIWx7D9MN4lBYOXpP3wKgPEMGu0/f03WqIdo6D88pYP1fw7nP4GVQ4tsZ/A/dlQ1QdR96T+1iZP7HYrsP3506spnees/a9RDNLqD6T9rSNxj6UPuPzfDDfj8MOk/8L+V7NgI6z8N4C2QoPjpP3va4a/JGuY/bxKDwMqh5z8/NV66SQznP6Pp7GRwlO4/pOTVOQZk7D+mCkYldQLsPxjshm2LMuc/n6ut2F924z+UMNP2r6zjPyJUqdkDreU/BFYOLbKd5D+qSIWxhSDjPzp6/N6mP+k/SaKXUSy37z+jzAaZZOTuP+f7qfHSTek/uCOcFrzo5z+X4qqy74ruPzcawFsgQeE/RpkNMsnI4z8t7GmHvyblP2LboswGmeQ/NNdppKXy6z8RAYdQpWbnP50ui4nNx+c/dqbQeY1d5z91q+ek943nP8tKk1LQ7eg/CoUIOIQq5z8PnDOitDfpP/aX3ZOHheY/tKuQ8pNq5T8BMJ5BQ//lP6+ZfLPNje0/r5l8s82N7T/5g4Hn3sPjP2vxKQDGM+Q/A+yjU1c+4T9OYhBYObTmP9gN2xZlNvA/U3k7wmnB6D+ZZOQs7GnkPy/APjp15ec/J4i6D0Bq5z/52jNLAtTkP1oNiXssfcQ/yatzDMhe4j90JJf/kH7kP0fmkT8YeOA/t11ortNI5j/bbRea6zTnP28qUmFsIeo/Lexph78m0z/tnjws1JroP1FOtKuQ8uc/4Sh5dY4B7D88g4b+CS7nP9S3zOmymOI/h4px/iYU3D+oUrMHWoHjP3/7OnDOiOc/ADrMlxdgtz+gGi/dJAbqPzwx68VQTuk/Ik+Srpl8sz/8qfHSTWLlP8PwETElkuE/RYE+kSdJ4z88iJ0pdF6zP19BmrFoOuw/zSN/MPDc6j/u68A5I0roPyBj7lpCPuY/6rKY2Hxc4j/MlxdgH53nP3KKjuTyH+U/4uR+h6JA4z8tIR/0bFbmP+PHmLuWkOU/u+1Cc51G4z+cpzrkZrjRPx7EzhQ6r9k/BoGVQ4ts1T/d6jnpfePVPz6WPnRBfeA/7s7abRea1z8iiV5GsdzYP+22C811Grk/UKp9Oh4z4j/gLZCg+DHcPwAAAAAAAAAALxfxnZj11j8UP8bctYTaPwsMWd3qOdc/ejarPldb5z/cKR2s/3OoP8YzaOif4N4/oP1IERlW5z8aaam8HeHMP2Ni83FtqOY/3BFOC170zT/XwFYJFofoPwGkNnFyv+M/Tgte9BWk2T9f7/54r1rFPyqRRC+jWMo/cy7FVWXf0z+utmJ/2T3XP89OBkfJq9U/6Gor9pfd2z9uwOeHEcLbP6Xap+MxA9M/yuAoeXWO4z9MpgpGJXXYP2ZOl8XE5t0/2LYos0EmsT+8lpAPejbDP7NeDOVEu84/j+TyH9Jvwz9cj8L1KFzRP2B2Tx4WatM/5nlwd9Zu2z+V1AloImzUP3wKgPEMGuc/QlvOpbiqzD/5FADjGTTSPw==\",\"dtype\":\"float64\",\"order\":\"little\",\"shape\":[158]},\"Rank\":[1,2,3,4,5,6,7,8,9,10,11,12,13,14,15,16,17,18,19,20,21,22,23,24,25,26,27,28,29,30,31,32,33,34,35,36,37,38,39,40,41,42,43,44,45,46,47,48,49,50,51,52,53,54,55,56,57,58,59,60,61,62,63,64,65,66,67,68,69,70,71,72,73,74,75,76,77,78,79,80,81,82,82,84,85,86,87,88,89,90,91,92,93,94,95,96,97,98,99,100,101,102,103,104,105,106,107,108,109,110,111,112,113,114,115,116,117,118,119,120,121,122,123,124,125,126,127,128,129,130,131,132,133,134,135,136,137,138,139,140,141,142,143,144,145,146,147,148,149,150,151,152,153,154,155,156,157,158],\"Score\":{\"__ndarray__\":\"DAIrhxZZHkBYObTIdj4eQM/3U+OlGx5ASgwCK4cWHkBoke18P7UdQDm0yHa+nx1AUI2XbhKDHUDb+X5qvHQdQL6fGi/dJB1AiUFg5dAiHUDpJjEIrBwdQIGVQ4ts5xxAzczMzMzMHEBzaJHtfL8cQGDl0CLbeRxAO99PjZfuG0BiEFg5tMgbQMP1KFyPwhtAc2iR7Xy/G0C0yHa+n5obQCuHFtnOdxtAtvP91HhpG0A9CtejcD0bQP7UeOkmMRtAvp8aL90kG0AAAAAAAAAbQK5H4XoUrhpAi2zn+6lxGkDNzMzMzEwaQLKd76fGSxpAhetRuB4FGkBxPQrXo/AZQJzEILBy6BlAUrgehevRGUC+nxov3aQZQDeJQWDlUBlAaJHtfD81GUD+1HjpJjEZQK5H4XoULhlA+n5qvHQTGUB56SYxCKwYQIXrUbgehRhAy6FFtvN9GEBQjZduEgMYQHsUrkfh+hdAppvEILDyF0BWDi2yne8XQGZmZmZm5hdA16NwPQrXF0CYbhKDwMoXQI/C9ShcjxdAdZMYBFaOF0BQjZduEoMXQOxRuB6FaxdAMQisHFpkF0CiRbbz/VQXQB1aZDvfTxdAsp3vp8ZLF0CNl24Sg0AXQESLbOf7KRdAFK5H4XoUF0Dwp8ZLNwkXQGq8dJMYBBdAd76fGi/dFkC8dJMYBNYWQEjhehSuxxZAqMZLN4nBFkDsUbgehWsWQEJg5dAiWxZA/tR46SYxFkCcxCCwcugVQEw3iUFg5RVAnu+nxku3FUB/arx0k5gVQHE9CtejcBVAhxbZzvdTFUC+nxov3SQVQN9PjZduEhVAUI2XbhIDFUAMAiuHFtkUQC2yne+nxhRA+FPjpZvEFED4U+Olm8QUQI/C9ShcjxRAarx0kxiEFEDl0CLb+X4UQMuhRbbzfRRAnMQgsHJoFEAxCKwcWmQUQJhuEoPAShRA7nw/NV46FEBaZDvfTw0UQLpJDAIrBxRA/Knx0k3iE0C8dJMYBNYTQLKd76fGyxNAZDvfT42XE0AK16NwPYoTQBsv3SQGgRNA5dAi2/l+E0ArhxbZzncTQCGwcmiRbRNAQmDl0CJbE0AzMzMzMzMTQPT91HjpJhNAvp8aL90kE0Db+X5qvPQSQFyPwvUo3BJALbKd76fGEkBYObTIdr4SQNNNYhBYuRJAaJHtfD+1EkDFILByaJESQNV46SYxiBJAcT0K16NwEkBiEFg5tEgSQMP1KFyPQhJAMzMzMzMzEkDfT42XbhISQMUgsHJoERJAdZMYBFYOEkA/NV66SQwSQLpJDAIrBxJAWDm0yHa+EUCTGARWDq0RQGDl0CLbeRFAZmZmZmZmEUCHFtnO91MRQO58PzVeOhFA46WbxCAwEUBeukkMAisRQC/dJAaBFRFANV66SQwCEUCsHFpkO98QQC2yne+nxhBAAiuHFtlOEEBvEoPAyiEQQPYoXI/C9Q9AtvP91HjpD0DZzvdT46UPQKabxCCwcg9ACKwcWmQ7D0BeukkMAisPQMP1KFyPwg5AWmQ730+NDkBzaJHtfD8OQKabxCCwcg1ABoGVQ4tsDUC8dJMYBFYNQHNoke18Pw1APQrXo3A9DUAZBFYOLbIMQJqZmZmZmQxAuB6F61G4C0C4HoXrUbgKQD81XrpJDAhAPQrXo3A9B0CDwMqhRbYGQA==\",\"dtype\":\"float64\",\"order\":\"little\",\"shape\":[158]},\"Score_normalized\":{\"__ndarray__\":\"cLTqQlienT8cXEIGEHadPxRLocpiQZ0/oddFq6M5nT8fRnxXdKacP0BhLzrrhZw/v9rIvYlanD9/l5X/2EScP4OOnEkAzJs/V2DeCefImz/N1aNKm7+bPyclU9EKb5s/1MyqlMJGmz+roFZ2njKbP5N+FP9DyZo/ajqQEI/2mT8Z5FH1O72ZP5NZFzbws5k/ThR6VkqvmT8T1Rrbg3eZPwvEeZ/WQpk/yIBG4SUtmT/xn80Gh+qYP96KWIjv15g/ynXjCVjFmD+SNoSOkY2YP2v/zJifEZg/JK1iwDa2lz/sbQNFcH6XP9RWJKXjfJc/qR0DjvwRlz/fT5UQAPOWPyiXnBGb5pY/MJtwVIXElj9AoxjaWYCWP+o9o6ROAZY/gM4byHnXlT8lcp9IR9GVP+AsAmmhzJU/jdRZLFmklT+FuFUZ3geVPx5LOF7+zJQ/fqke/yXClD/C1osOOwiUPwsekw/W+5M/U2WaEHHvkz8OIP0wy+qTP0BQJZLZ3JM/6fUSNJzFkz/X4J21BLOTP6alEn0oWZM/kI4z3ZtXkz+TkJ3+kEaTP4V9kqHuIpM/5Nt4QhYYkz+NgWbk2ACTPxsOC8UZ+ZI/v7GORefykj/Cs/hm3OGSP8y3zKnGv5I/6dJ/jD2fkj/v1OmtMo6SP3xhjo5zhpI/FvRw05NLkj91Uld0u0CSPzYPJLYKK5I/rITp9r4hkj8p8bWBmp+RP7p/xIPQhpE/D80J6UpHkT+2ZSqSStmQP3EgjbKk1JA/axFWmOyOkD+7XDHccWCQPz/YNIEFJJA/eaOcCUjxjz8+V3CVvmKPPwcYERr4Ko8/V2PsXX38jj8B/nYocn2OP8m+F62rRY4/b2KbLXk/jj9vYpsteT+OPx8B+jpYno0/JwXOfUJ8jT9DHhc/xGyNPxbwWP+qaY0/VSa/xJgojT+cbcbFMxyNPybrM4y8zow/SAhRkCidjD9oGKGb0RSMP1QDLB06Aow/5YRtJq2Siz+9WoMpfm2LP/WMFayBTos/1Vky+Xmwij+CAYq8MYiKP+dh2n5ObIo/igVe/xtmij9KwipBa1CKP4H0vMNuMYo/SbVdSKj5iT9NrGSSz4CJPymCepWgW4k/yyX+FW5ViT9jqxNiy8OIPxhXP2hteYg/V42lLVs4iD/oG7QvkR+IPwQ1/fASEIg/S3wE8q0DiD8KLAQ7OpeHP26MVP1We4c/UWY+QxI0hz9VXUWNObuGP0RI0A6iqIY/lJOrUid6hj/azeVa/xaGP66fJxvmE4Y/JRXtW5oKhj/GuHDcZwSGP+LRuZ3p9IU/LwP77+gYhT8j8lm0O+SEPzLtNEFNSYQ/zH8Xhm0OhD+UQLgKp9aDPx2+JdEviYM/UfC3UzNqgz9sCQEVtVqDP6o/Z9qiGYM/RNJJH8Pegj8vsAeoaHWCP+RbM64KK4I/9kBIjIDAgD8YUZiXKTiAP5bsukLUhH8/b8LQRaVffz+h2sjWIpN+P7DVo2M0+H0/BRiG8eBQfT8pNaP1TB99P+zO3I8943s/nW07nRxCez8GuMWwnVZ6Pz6kMeTj6nc/Ko+8ZUzYdz85l2TrIJR3P0yfDHH1T3c/7kKQ8cJJdz+cuocUWaR1P1Fmsxr7WXU/9LZDU0iwcj90PBUnQFNvP+V6KP32Tl4/WrrmzEWHVD/U906pZEZMPw==\",\"dtype\":\"float64\",\"order\":\"little\",\"shape\":[158]},\"Year\":[2015,2015,2015,2015,2015,2015,2015,2015,2015,2015,2015,2015,2015,2015,2015,2015,2015,2015,2015,2015,2015,2015,2015,2015,2015,2015,2015,2015,2015,2015,2015,2015,2015,2015,2015,2015,2015,2015,2015,2015,2015,2015,2015,2015,2015,2015,2015,2015,2015,2015,2015,2015,2015,2015,2015,2015,2015,2015,2015,2015,2015,2015,2015,2015,2015,2015,2015,2015,2015,2015,2015,2015,2015,2015,2015,2015,2015,2015,2015,2015,2015,2015,2015,2015,2015,2015,2015,2015,2015,2015,2015,2015,2015,2015,2015,2015,2015,2015,2015,2015,2015,2015,2015,2015,2015,2015,2015,2015,2015,2015,2015,2015,2015,2015,2015,2015,2015,2015,2015,2015,2015,2015,2015,2015,2015,2015,2015,2015,2015,2015,2015,2015,2015,2015,2015,2015,2015,2015,2015,2015,2015,2015,2015,2015,2015,2015,2015,2015,2015,2015,2015,2015,2015,2015,2015,2015,2015,2015]},\"selected\":{\"id\":\"43132\"},\"selection_policy\":{\"id\":\"43131\"}},\"id\":\"43078\",\"type\":\"ColumnDataSource\"},{\"attributes\":{},\"id\":\"43090\",\"type\":\"LinearScale\"},{\"attributes\":{},\"id\":\"43131\",\"type\":\"UnionRenderers\"},{\"attributes\":{},\"id\":\"43151\",\"type\":\"UnionRenderers\"},{\"attributes\":{\"callback\":null,\"tooltips\":[[\"Happiness\",\"@Score\"],[\"Country\",\"@Country\"],[\"(GDP, Health)\",\"($x, $y)\"],[\"Year\",\"@Year\"]]},\"id\":\"43109\",\"type\":\"HoverTool\"},{\"attributes\":{},\"id\":\"43095\",\"type\":\"BasicTicker\"},{\"attributes\":{},\"id\":\"43132\",\"type\":\"Selection\"},{\"attributes\":{},\"id\":\"43172\",\"type\":\"UnionRenderers\"},{\"attributes\":{\"data\":{\"Corruption\":{\"__ndarray__\":\"+tAF9S1z3D/mIr4Ts17aP166SQwCK8M/E0n0Morl1j9ZUYNpGD7aP1t8CoDxDNQ/gSGrWz0n0z9T0O0ljdHaP4wQHm0csdQ/8s02N6Yn2j8OSphp+1e2P2zPLAlQU8s/K97IPPIHwz/jiLX4FAC7PwaBlUOLbL8/2ZQrvMtF0j/EX5M16iHCPz+p9ul4zNA/Jh5QNuUK0z/qPgCpTZzWP3Qkl/+Qfsc//MbXnlkS3j8plltaDYnRPzihEAGHUL0/jpJX5xiQtT92ieqtga2yP39N1qiHaKQ/GFsIclDC1j/fMqfLYmLLP0fmkT8YeMY/o0CfyJOkqz/PLAlQU8vGP4qT+x2KAp0/asGLvoI00z9+jLlrCfmwP8aFAyFZwN4/6znpfeNrrz9Y4gFlU67EPy7KbJBJRrY/O6qaIOo+wD+WJqWg20vOP5Gb4QZ8ftA/7ZklAWpqiT/ghEIEHEK1PyE82jhiLZ4/7N0f71Uruz+sVib8Uj+3Pwqi7gOQ2sQ/i3H+JhQi0j940VeQZiyaP4P6ljldFsc/wsBz7+GSuz8Fo5I6AU3IPzoGZK93f7w/Ik+Srpl8kz9AGHjuPVyiPylcj8L1KKw/ODKP/MHAsz9qh78ma9SzP8IXJlMFo5I/nG1uTE9Yxj9HWipvRzjFP7FQa5p3nKI/1c+bilQYqz+cvwmFCDjSP91e0hito6o/ucK7XMR3uj9SSZ2AJsK2PzFCeLRxxKo/HlA25Qrvsj+rlQm/1M97PzHrxVBOtMc/I2dhTzv8pT/oMF9egH2kP1ORCmMLQdQ/oyO5/If00z+mft5UpMKwP87HtaFinL8//wkuVtRgaj/3r6w0KQXBP3XlszwP7sY/05/9SBEZvj8HzhlR2hucPwFNhA1Pr8Q/4WJFDaZhqD+6ZvLNNjemPwAAAAAAAAAARrHc0mpIwD9cctwpHay/P4hLjjulg7U/E0n0Morlpj+Hp1fKMsTBP7jkuFM6WJ8/n8iTpGsmjz/uX1lpUgqyP2jLuRRXlb0/sfm4NlSM1z+YTBWMSuq0P4yhnGhXIaU/QiECDqFKwT8Z4lgXt9GgPzMbZJKRs8w/CKwcWmQ7nz/nNXaJ6q2xPxQ/xty1hKw/NGjon+BivT/GihpMw/CxP+zdH+9VK7s/wM+4cCAkqz/shm2LMhvAP16FlJ9U+7Q/h8Q9lj50wT8DJnDrbp66P5MdG4F4Xa8/0ZFc/kP6xT+0WfW52oq1P6UUdHtJY7Q/a5+OxwxUtj8MWd3qOenJP3rCEg8om7o/pMLYQpCDoj92GmmpvB2xP5gXYB+dupI/xf6ye/KwoD+0yHa+nxqvP0i/fR04Z9Q/SP5g4Ln3uD+6g9iZQue9P40o7Q2+MHk/JJf/kH77xj9/vFetTPi1PwX6RJ4kXbM/wW7YtiizuT+ADvPlBdi3P51LcVXZd8E/SG3i5H6Hwj+LMhtkkpG7P9OHLqhvmcc/cM6I0t7gwz9JopdRLLe0P7qgvmVOl7U/I2dhTzv8xT/whclUwajAP1/v/nivWqk/QpWaPdAKwD92VDVB1H2wP7QfKSLDKq4/19081SE3sz+zmNh8XBuqPw9iZwqd16g/MuauJeSDvj/RlnMprirgP+22C811GrE/220Xmus0sj+2Z5YEqKm9P61RD9HoDsY/sDic+dUcuD8=\",\"dtype\":\"float64\",\"order\":\"little\",\"shape\":[157]},\"Country\":[\"Denmark\",\"Switzerland\",\"Iceland\",\"Norway\",\"Finland\",\"Canada\",\"Netherlands\",\"New Zealand\",\"Australia\",\"Sweden\",\"Israel\",\"Austria\",\"United States\",\"Costa Rica\",\"Puerto Rico\",\"Germany\",\"Brazil\",\"Belgium\",\"Ireland\",\"Luxembourg\",\"Mexico\",\"Singapore\",\"United Kingdom\",\"Chile\",\"Panama\",\"Argentina\",\"Czech Republic\",\"United Arab Emirates\",\"Uruguay\",\"Malta\",\"Colombia\",\"France\",\"Thailand\",\"Saudi Arabia\",\"Taiwan\",\"Qatar\",\"Spain\",\"Algeria\",\"Guatemala\",\"Suriname\",\"Kuwait\",\"Bahrain\",\"Trinidad and Tobago\",\"Venezuela\",\"Slovakia\",\"El Salvador\",\"Malaysia\",\"Nicaragua\",\"Uzbekistan\",\"Italy\",\"Ecuador\",\"Belize\",\"Japan\",\"Kazakhstan\",\"Moldova\",\"Russia\",\"Poland\",\"South Korea\",\"Bolivia\",\"Lithuania\",\"Belarus\",\"North Cyprus\",\"Slovenia\",\"Peru\",\"Turkmenistan\",\"Mauritius\",\"Libya\",\"Latvia\",\"Cyprus\",\"Paraguay\",\"Romania\",\"Estonia\",\"Jamaica\",\"Croatia\",\"Hong Kong\",\"Somalia\",\"Kosovo\",\"Turkey\",\"Indonesia\",\"Jordan\",\"Azerbaijan\",\"Philippines\",\"China\",\"Bhutan\",\"Kyrgyzstan\",\"Serbia\",\"Bosnia and Herzegovina\",\"Montenegro\",\"Dominican Republic\",\"Morocco\",\"Hungary\",\"Pakistan\",\"Lebanon\",\"Portugal\",\"Macedonia\",\"Vietnam\",\"Somaliland Region\",\"Tunisia\",\"Greece\",\"Tajikistan\",\"Mongolia\",\"Laos\",\"Nigeria\",\"Honduras\",\"Iran\",\"Zambia\",\"Nepal\",\"Palestinian Territories\",\"Albania\",\"Bangladesh\",\"Sierra Leone\",\"Iraq\",\"Namibia\",\"Cameroon\",\"Ethiopia\",\"South Africa\",\"Sri Lanka\",\"India\",\"Myanmar\",\"Egypt\",\"Armenia\",\"Kenya\",\"Ukraine\",\"Ghana\",\"Congo (Kinshasa)\",\"Georgia\",\"Congo (Brazzaville)\",\"Senegal\",\"Bulgaria\",\"Mauritania\",\"Zimbabwe\",\"Malawi\",\"Sudan\",\"Gabon\",\"Mali\",\"Haiti\",\"Botswana\",\"Comoros\",\"Ivory Coast\",\"Cambodia\",\"Angola\",\"Niger\",\"South Sudan\",\"Chad\",\"Burkina Faso\",\"Uganda\",\"Yemen\",\"Madagascar\",\"Tanzania\",\"Liberia\",\"Guinea\",\"Rwanda\",\"Benin\",\"Afghanistan\",\"Togo\",\"Syria\",\"Burundi\"],\"Freedom\":{\"__ndarray__\":\"JjYf14aK4j9bmfBL/bziPzv8NVmjHuI/3h/vVSsT4z+gppat9UXiP+viNhrAW+I/CW05l+Kq4T8lXTP5ZpviP3LhQEgWMOI/N1SM8zeh4j+M1lHVBFHXP6K0N/jCZOE/UHCxogbT3j956SYxCKzhP51jQPZ6990/61bPSe8b4T+sHFpkO9/ZP8kCJnDrbuA/Yygn2lVI4T8eFmpN847hP1GDaRg+Itg/vJaQD3o23z/7P4f58gLgP3MR34lZL9g/qn06HjNQ3z9yM9yAzw/bP+AQqtTsgdo/6Ugu/yH94T/zWZ4Hd2fhP0VkWMUbmeE//mX35GGh3D/pQxfUt8zdP9j1C3bDtt8/ww34/DBC2D9GQlvOpbjUPxdlNsgkI+I/8x/Sb18H2D8zUBn/PuPKP6yowTQMH+A/gpAsYAK34D9xcr9DUaDbP1K4HoXrUd4/ipP7HYoC3z/zWZ4Hd2fJP8aKGkzD8M0/mfViKCfa1z8JUFPL1vrYP3KndLD+z90/f6SIDKt44z+asWg6OxnIP0tZhjjWxdk/hj3t8Ndk4D93FVJ+Uu3dP3S1FfvL7tk/4gZ8fhgh0D8mcOtunurUP13+Q/rt69w/eqpDboYb0D+t3XahuU7gPwrcupunOsg/PBQF+kSe0j9mTpfFxObbP6Xap+MxA+E/jiPW4lMA2D+NnIU97fDXPw5Pr5RliN0/gUOoUrMH2j/QCgxZ3erRP1H3AUht4tI/845TdCSX3T8CSG3i5H7XPxqGj4gpkdo/LWACt+7m2z9ENLqD2JnOPxObj2tDxd4/CFVq9kAr4j8FUfcBSG3CP060q5Dyk84/Bp57D5cc2T/nb0IhAg7XP1wbKsb5m9Y/6IcRwqON4T97MZQT7SrcP+lg/Z/DfN0/P1JEhlW82T906spneR7EP37GhQMhWbg/nZ0MjpJXwz+37uapDrngP7bbLjTXadA/WKg1zTtOyT8PtAJDVrfCP7dFmQ0yydA/x9eeWRKg3D8TRN0HILXRPw+5GW7A5+E/7C+7Jw8L2T9nCp3X2CXOP8k88gcDz60/ZED2evfH2z9L5e0IpwXXP+FFX0GaseA/iC6ob5nT0T8B3gIJih/RPyXpmsk328w/BHP0+L1N2z8AHebLC7DXP2ZJgJpatsY/acai6exk1D8wL8A+OnXZPzPEsS5uo9M/VACMZ9DQzz+UwVHy6hzfP32W58HdWds/BaipZWt91z//BBcrajDbP8LdWbvtQuA/8WPMXUvI2T9RiIBDqFLbP6t4I/PIH8g/ZHWr56T3wT/ymIHK+PfZP6HbSxqjdcA/RSqMLQQ52j9GzsKedvjDP4MXfQVpxtQ/K2owDcNH2D9Vh9wMN+DTPwzlRLsKKcs/l/+Qfvs6wD8uymyQSUbQPzLmriXkg9o/AAAAAAAAAAAIILWJk/vRP8anABjPoNE/ZB75g4Hnvj9IisiwijfcPydr1EM0usM/g6Pk1TkG2j9pVyHlJ9XiPzmc+dUcIHg/KpFEL6NY2D+XqN4a2CrJP9uizAaZZMA/ejarPldb1T+qQ26GG/DbP4MvTKYKRs0/FW9kHvmDwT8Wak3zjlPUP+3w12SNetA/V2DI6lbP0z+L/WX35GHhPxwIyQImcNk/ZMxdS8gHxT9SCrq9pDHWP4vgfyvZsbE/rthfdk8epj8=\",\"dtype\":\"float64\",\"order\":\"little\",\"shape\":[157]},\"GDP\":{\"__ndarray__\":\"Gm7A54cR9z/kMQOV8W/4P4guqG+Z0/Y/k2+2uTE9+T8CSG3i5H72P7RZ9bnaCvc/Oq+xS1Rv9z8Tm49rQ8X1P87HtaFiHPc/mBdgH5069z+CrRIsDmf1PxRcrKjBNPc/jdE6qpog+D9gqwSLwxnxP3E486s5wPU/mMCtu3kq9z8teNFXkGbxPx+6oL5lzvY/I/PIHwy89z8M5US7Cin7P2XHRiBe1/E/wOyePCxU+j8ZkL3e/XH2P/KwUGuad/M/y0qTUtDt8j9Ah/nyAmzyPzXvOEVH8vQ/d6G5TiMt+T+d9L7xtefyPyLgEKrU7PQ/saIG0zB88D/9gt2wbVH2P1mGONbFbfE/95LGaB3V9z8IclDCTFv2P8cuUb01MP0/0GG+vAB79T/y6hwDstfwP9uF5jqNtOo/IqZEEr2M8T/k2lAxzt/5P7NBJhk5C/c/LnO6LCY29T8WTWcngyPyP31cGyrGefQ/hXzQs1n16z8S91j60AX0PzIDlfHvM+Y/W5TZIJOM5z92cRsN4K31P952oblOI+8/DAdCsoAJ7D8wDcNHxBT2P12Kq8q+q/M/UFPL1voi5j/zPLg7a7fzP6yL22gA7/M/qg65GW7A9T8niLoPQGrpP8pUwaikTvQ/nkFD/wQX8j+WW1oNifv0P0IhAg6hyvQ/cy7FVWXf7z/V7IFWYEjxP3h/vFetTPI/ixpMw/AR8T9cPSe9b3zzP5vJN9vcGPU/04cuqG+Z7D9lGeJYF7fyP3506spnefQ/SiTRyyiW7D8kfzDw3PvyP0ATYcPTK/g/AAAAAAAAAACbVZ+rrdjsPxZNZyeDo/I/yQImcOtu7j+FJR5QNuXvP5eL+E7M+vE/r1qZ8Ev96T/EQq1p3nHwPwyTqYJRSes/Atnr3R/v4T+Uap+Ox4zwP/3BwHPv4e0/U5EKYwtB8T/goSjQJ3LwP2d+NQcI5uo/6ZrJN9vc8z+hSs0eaAXmP/T4vU1/9vE/7YFWYMhq9D87AU2EDU/wP4wQHm0csec/Xb9gN2xb0D8v+grSjEXvP16FlJ9U+/M/NxrAWyBB3z8ZraOqCaLvPxJr8SkAxuU/4X8r2bER6D8rE36pnzfmP2+e6pCb4fE/9u6P96qV4z9W1GAaho/cP8ISDyibcuU/Ns07TtGR7j+Dhv4JLlbhP7aEfNCzWdc/pz/7kSIy8T+1bK0vEtrtPyMyrOKNzOA/WWlSCrq90j8X8Z2Y9WLwP4fhI2JKJO8/qYdodAex5z++vAD76NTVP0mdgCbChu4/6udNRSqM6z/SNZNvtrngP8oa9RCN7us/NpNvtrkx5D95zEBl/PusPxxClZo90Oo/eLmI78Ss6D8GKuPfZ1zcP6zFpwAYz/E/2v6VlSal4z8+P4wQHm3WPwgDz72HS7Y/dEF9y5wu5D9hbCHIQYnyP57qkJvhBtQ/GLK61XPS1T+nIhXGFoLxP5c5XRYTm9E/+rMfKSLD4T8lkuhlFMvhPz5cctwpHes/B/AWSFD8wD/1hCUeUDbZPxVXlX1XBNs/mbuWkA961D8q499nXDjWP18ktOVciuI/MiB7vfvj0T92cRsN4C3eP9Wytb5IaLs/xf6ye/KwzD+E04IXfQXVP4HPDyOER9k/nnsPlxx32D9y3CkdrP/RP2K+vAD76Oc/6WD9n8N8sT8=\",\"dtype\":\"float64\",\"order\":\"little\",\"shape\":[157]},\"Generosity\":{\"__ndarray__\":\"2LYos0Em1z9iFW9kHvnRP6TC2EKQg94/xm00gLdA2D8bKsb5m1DQP+FFX0Gasdw/KpFEL6NY3j/LZ3ke3J3fPyzxgLIpV94/lltaDYl72D8nFCLgEKrUP0YldQKaCNU/C2MLQQ5K2j8gKSLDKt7MP+xph78ma8w/PpY+dEF90z+M+E7MejHEP4JzRpT2Bs8/EDtT6LzG3D++h0uOO6XRP3uDL0ymCr4/yhr1EI3u1D+Uap+OxwzgP/H0SlmGONQ/Tx4Wak3zzj/9TShEwCG8Pwnh0cYRa7k/onprYKsE0T8GnnsPlxzHP3QMyF7v/uE/jiPW4lMAxD/FjzF3LSG/P9XsgVZgyOI/Dat4I/PIwz9wXwfOGVHQP9EF9S1zutQ/sVBrmnecxj+cilQYWwiyP3JtqBjnb9I/aW/whclUxT8dOGdEaW/EPxhgH5268sU/AJF++zpw1D/D9Shcj8KlP7yuX7AbtsE/76zddqG5tj9e9BWkGYvaP+dvQiECDtM/8piByvj31T/sEtVbA1vFP3wnZr0Yyrk/4jsx68VQzj940VeQZiy6P0m6ZvLNNsM/8S4X8Z2YyT8xzt+EQgScPwbYR6eufMI/8UbmkT8YyD8Sa/EpAMbLPyPb+X5qvJQ/1EM0uoPYwT+4zOmymNjQPyk/qfbpeNA/gIKLFTWYwj/fGtgqweLMP6DgYkUNptc/5QrvchHfxT/4wmSqYFTGP+rKZ3ke3NE/443MI38w0D86BmSvd3/AP46SV+cYkLU/t2J/2T15zD8qHaz/c5jHP+9VKxN+qdk/BoGVQ4ts0T+1w1+TNerRPyjVPh2PGag/vOgrSDMW4j/htOBFX0HCP/8h/fZ14Kw/yhXe5SK+yz/d0mpI3GOpP8QI4dHGEd8/1LfM6bKY2D9e9BWkGYvKP/59xoUDIdM/cHztmSUBxj8eM1AZ/z7LP8aFAyFZwKQ/8tJNYhBYuT+FfNCzWfXTP917uOS4U84/y0qTUtDtvT/0piIVxhbOPz81XrpJDNA/09nJ4Ch54D/Xhopx/iakPwAAAAAAAAAAFk1nJ4Oj0D9eY5eo3hrWP+BnXDgQkts/nKc65Ga4zT8LtaZ5xynKPycUIuAQqtg/5zqNtFTexj+V1AloImzYP5IiMqzijbw/PL1SliGOxT9aDYl7LH3IP7vQXKeRls4/NIXOa+wSyT+jI7n8h/SzP2TMXUvIB80/9wFIbeLk0j+Xi/hOzHrBP/4mFCLgEN4/v/G1Z5YE0D97iEZ3EDvqP/qbUIiAQ8A/bJVgcTjzsz/60AX1LXPaP3EDPj+MEMo/Mqzijcwjyz+zzY3pCUvQPx7htOBFX7E/7YFWYMjqvj9PBkfJq3PIPxyxFp8CYMA/tqFinL8JzT9XsmMjEK/HP/1qDhDM0dM/pIgMq3gjxz+5quy7IvivP0penWNA9so/GjT0T3Cx3j8CK4cW2c6/P21Wfa62Ysc/nIpUGFsIyj/iI2JKJNHZP0nXTL7Z5r4/SFD8GHPXyj8zbf/KSpPQPxR5knTN5Mc/ByXMtP0rzz9/9iNFZFjRP4fhI2JKJLk/S+oENBE2zD9qatlaXyTUP5TeN772zM4/aTo7GRwl0z/a5sb0hCXOPzGZKhiV1Mk/+z+H+fIC1D/Owp52+GvGPwywj05d+d4/DeAtkKD4yT8=\",\"dtype\":\"float64\",\"order\":\"little\",\"shape\":[157]},\"Health\":{\"__ndarray__\":\"/mDgufdw6T+u8C4X8Z3rP6neGtgqwes/nnsPlxx36T/C+j+H+fLpP11txf6ye+o/H9eGinH+6T/XFwltOZfqP8xdS8gHPes/DHbDtkWZ6j940VeQZizrP4C3QILix+k/IbByaJHt6D8EyqZc4V3oP/3BwHPv4eg/iLoPQGoT6j8s1JrmHafjP9IdxM4UOuo/G55eKcsQ6j9ZTGw+rg3rP8CV7NgIxOY/yCQjZ2FP7j/tgVZgyOrpP0563/jaM+o/JuSDns2q5j+t3XahuU7mP1TGv8+4cOg/JNHLKJZb5z+asWg6OxnnP2wJ+aBns+k/SNxj6UMX4z/G3LWEfNDqP0tZhjjWxeQ/EEBqEyf34j8u/yH99nXpP/q4NlSM8+Y/xr/PuHAg7D+71XPS+8bjP+27IvjfSuE/zeSbbW5M4D+dnQyOklfkPxL3WPrQBeU/vYxiuaXV4D+QTl35LM/jP2qkpfJ2hOY/30+Nl24S4z/3WPrQBfXjPwOy17s/3uQ/zCiWW1oN4D/PvYdLjjvrP02+2ebG9OU/tU/HYwYq3T9JERlW8UbtPyJxj6UPXeI/IqtbPSe94D/jqrLviuDiP5qxaDo7GeY/IEHxY8xd7D/ImLuWkA/ePzV7oBUYsuQ/jPhOzHox5D8Facai6ezqP2ufjscMVOk/1SZO7nco5D/SxhFr8SncPwOV8e8zLuU/sP7PYb684D/XaaSl8nbkP5oIG55eKes/nYAmwoan4j81JO6x9KHlP9Fcp5GWyuU/gUOoUrMH4z/hl/p5U5HmP3eE04IXfe4/0csolltavT9I4XoUrkfhP0sC1NSyteQ/04cuqG+Z3z+v6xfshm3jP/5g4Ln3cOE/Ci5W1GAa3j+1iZP7HYrnP9RDNLqD2N8/dbD+z2G+4T+1N/jCZKrkP9r+lZUmpeY/ol2FlJ9U5D+HxD2WPnTiP0dVE0TdB+M/ilkvhnKi5T9A2ZQrvMvZPzkoYabtX+g/vfvjvWpl6T8PtAJDVrfkP5Z4QNmUK+U//wQXK2ow1T9xAz4/jBDjP1wbKsb5m+k/rMq+K4L/4D85Yi0+BcDhP1Lt0/GYgdg/npj1Yignqj/Jjo1AvK7iP5IiMqzijeQ/eNFXkGYszj/ZCMTr+gXgP6mfNxWpMOI/lE25wrtc5z8wR4/f2/TgPwAAAAAAAAAA1VsDWyVY4D9bsb/snjzWP41/n3HhQMA/qBjnb0Ih1j8YsrrVc9LHPw9iZwqd1+M/eR7cnbXb3D9nRGlv8IXZP693f7xXreA/NnaJ6q2B5D9eaK7TSEvTP22QSUbOwuI/dAzIXu/+0j+q8dJNYhDIP5LLf0i/feQ/kQpjC0EO0j+GVbyReeTZP205l+KqsuU/MbH5uDZU0j/RItv5fmrEP0IJM23/ytI/CHdn7bYL0z/NO07RkVzWP3hF8L+V7MQ/8S4X8Z2Y0T/LLa2GxD3WP3LhQEgWMNM/7YFWYMjqpj+KyLCKNzLbP6+ZfLPNjak/dbD+z2G+0D9Qqn06HjPEP/lOzHoxlKM/NLqD2JlCyz8fhetRuB7JPx75g4Hn3tM/Vdl3RfC/1z8MAiuHFtnWP7snDwu1ps0/tvgUAOMZyD+itDf4wmTUP19egH106so/F7zoK0gzxj9uwOeHEcLPP9UmTu53KOQ/gPEMGvonxD8=\",\"dtype\":\"float64\",\"order\":\"little\",\"shape\":[157]},\"Rank\":[1,2,3,4,5,6,7,8,9,10,11,12,13,14,15,16,17,18,19,20,21,22,23,24,25,26,27,28,29,30,31,32,33,34,34,36,37,38,39,40,41,42,43,44,45,46,47,48,49,50,51,52,53,54,55,56,57,57,59,60,61,62,63,64,65,66,67,68,69,70,71,72,73,74,75,76,77,78,79,80,81,82,83,84,85,86,87,88,89,90,91,92,93,94,95,96,97,98,99,100,101,102,103,104,105,106,107,108,109,110,111,112,113,114,115,116,117,118,119,120,121,122,123,124,125,126,127,128,129,130,131,132,133,134,135,136,137,138,139,140,141,142,143,144,145,145,147,148,149,150,151,152,153,154,155,156,157],\"Score\":{\"__ndarray__\":\"tMh2vp8aHkDwp8ZLNwkeQBsv3SQGAR5Ay6FFtvP9HUD0/dR46aYdQARWDi2ynR1AQmDl0CJbHUC8dJMYBFYdQI2XbhKDQB1ARIts5/spHUDFILByaBEdQGDl0CLbeRxA0SLb+X5qHEAMAiuHFlkcQA4tsp3vJxxAYOXQItv5G0ACK4cW2c4bQJ7vp8ZLtxtAVOOlm8SgG0CWQ4ts53sbQOkmMQisHBtA2/l+arz0GkBmZmZmZuYaQFK4HoXr0RpA5/up8dLNGkCamZmZmZkaQPyp8dJNYhpAmG4Sg8BKGkCuR+F6FC4aQMHKoUW28xlABoGVQ4vsGUC28/3UeOkZQEw3iUFg5RlAarx0kxiEGUBqvHSTGIQZQAAAAAAAgBlAi2zn+6lxGUDsUbgehWsZQLKd76fGSxlA+n5qvHQTGUDb+X5qvPQYQKwcWmQ73xhAeekmMQisGEC8dJMYBFYYQB1aZDvfTxhAEoPAyqFFGECF61G4HgUYQCuHFtnO9xdAppvEILDyF0CcxCCwcugXQIGVQ4ts5xdAbef7qfHSF0DJdr6fGq8XQJMYBFYOrRdASgwCK4eWF0AGgZVDi2wXQNejcD0KVxdA16NwPQpXF0B9PzVeukkXQI2XbhKDQBdAaJHtfD81F0Av3SQGgRUXQN9PjZduEhdARrbz/dT4FkBvEoPAyqEWQGQ730+NlxZA9ihcj8J1FkA9CtejcD0WQMl2vp8aLxZA9P3UeOkmFkDpJjEIrBwWQMUgsHJoERZACtejcD0KFkDByqFFtvMVQKJFtvP91BVAw/UoXI/CFUC0yHa+n5oVQHWTGARWjhVAqMZLN4lBFUCDwMqhRTYVQESLbOf7KRVABFYOLbIdFUB7FK5H4foUQGIQWDm0yBRAPQrXo3C9FEBoke18P7UUQPT91HjpphRAvp8aL92kFEAfhetRuJ4UQLTIdr6fmhRAFK5H4XqUFEC6SQwCK4cUQGq8dJMYhBRAy6FFtvN9FECWQ4ts53sUQFg5tMh2PhRA7nw/NV46FECuR+F6FC4UQG8Sg8DKIRRAlkOLbOf7E0BU46WbxKATQBsv3SQGgRNAAAAAAACAE0CWQ4ts53sTQI2XbhKDQBNArkfhehQuE0B56SYxCCwTQGq8dJMYBBNAH4XrUbieEkDfT42XbpISQArXo3A9ihJAzczMzMxMEkCyne+nxksSQFpkO99PDRJA1XjpJjEIEkC8dJMYBNYRQClcj8L1qBFABFYOLbKdEUAUrkfhepQRQKabxCCwchFAcT0K16NwEUAGgZVDi2wRQLKd76fGSxFAtMh2vp8aEUBKDAIrhxYRQDVeukkMAhFAi2zn+6nxEEDHSzeJQeAQQJHtfD813hBA5/up8dLNEEASg8DKocUQQDm0yHa+nxBAdZMYBFaOEECWQ4ts53sQQJhuEoPAShBA6SYxCKwcEECYbhKDwMoPQNnO91PjpQ9AhxbZzvdTD0Coxks3iUEPQCGwcmiR7Q5ADAIrhxbZDkAOLbKd76cOQLTIdr6fGg5AtvP91HjpDUC28/3UeOkNQJhuEoPAyg1Aj8L1KFyPDUCHFtnO91MNQGDl0CLb+QxAQmDl0CLbDEAfhetRuB4MQKwcWmQ73wtA4XoUrkfhCkAGgZVDi2wKQFpkO99PjQhAPQrXo3A9B0A=\",\"dtype\":\"float64\",\"order\":\"little\",\"shape\":[157]},\"Score_normalized\":{\"__ndarray__\":\"+zPCKtY/nT93q/GMfyWdP8Hy+I0aGZ0/fK1brnQUnT/hAkmZw5CcPxEzcfrRgpw/QlbMYh0enD/O4nBDXhacP+/9IybV9Zs/9wH4aL/Tmz/T1w1skK6bP5N+FP9DyZo/PSQCoQaymj+3mzEDsJeaP2xHXQlSTZo/ZTgm75kHmj+kboy0h8aZP5VbgVflopk/nV9Vms+AmT9mIPYeCUmZPxW96grzuJg/mDjur4Z8mD9V9brx1WaYP4wnTXTZR5g/McvQ9KZBmD+iMV8bo/KXP8xSUGL5npc/vj9FBVd7lz89ud6I9U+XPySVMvCl95Y/g/MYkc3slj8+rnuxJ+iWP+RR/zH14ZY/YsA13sVOlj9iwDXexU6WPwhkuV6TSJY/xyCGoOIylj8/lkvhlimWP3jKR4WP+ZU/jdRZLFmklT/eHzVw3nWVP/066FJVVZU/hbhVGd4HlT8AJSKkuYWUP3ea5+RtfJQ/kbMwpu9slD/vBEpOVAuUP8bY9S8w95M/U2WaEHHvkz9vfuPR8t+TP1hnBDJm3pM/jpmWtGm/kz9scRbZL4mTPz1DWJkWhpM/R0cs3ABkkz+blHFBeySTP7qvJCTyA5M/uq8kJPIDkz+Rg9AFzu+SP8Kz+Gbc4ZI/x7ViiNHQkj8B6l4syqCSP7ykwUwknJI/gWP4r2h1kj/muOWat/GRPwDSLlw54pE/DdhswBivkT8h4n5n4lmRP+GeS6kxRJE/K+ZSqsw3kT9E/5trTiiRP0oBBo1DF5E/qF/sLWsMkT+xY8BwVeqQPwKvm7Tau5A/Zg/sdvefkD/oiu8bi2OQP9Z1ep3zUJA/QWQ9joG5jz9KaBHRa5ePPyU+J9Q8co8//hM91w1Njz/p8fpfs+OOPyQblCzeS44/LB9ob8gpjj+9rXZx/hCOPz8nEPWc5Y0/4cqTdWrfjT/QtR730syNPxj9JfhtwI0/BOiwedatjT+xjwg9joWNPycFzn1CfI0/FvBY/6ppjT+8k9x/eGONP//ASY+NqYw/SAhRkCidjD8h3maT+XeMP/2zfJbKUow/XwcAYCTgiz9y+eE2XcyKP+dh2n5ObIo/uTMcPzVpij8CeyNA0FyKP6AEDc8XqYk/aMWtU1FxiT8NaTHUHmuJPxJgOB5G8og/XoSsd4K/hz82WsJ6U5qHP8jo0HyJgYc/DhY+jJ7Hhj/f539MhcSGP/bmLhyBB4Y/EQB43QL4hT9MKRGqLWCFP245YbXW14Q/dj01+MC1hD/YnYW63ZmEP/OpAYOcM4Q/l02FA2othD/flIwEBSGEPyXPxgzdvYM/jyYeGSEpgz/ZbSUavByDP0TSSR/D3oI/Z+9mIy+tgj9f3sXngXiCPwCCSWhPcoI/JJ9mbLtAgj+1LXVu8SeCPxeB+DdLtYE/DnBX/J2AgT/XMPiA10iBP0CIT40btIA/MWrhWKsogD8UWYfNrwJ/P6HayNYik34/UWxa6z6bfT8aLftveGN9P25iEAViZXw/2cY0CmknfD9CHowWrZJ7P5M5B7oQ53k//JBexlRSeT/8kF7GVFJ5P6EnFU5f9Xg/PrH+3KZBeD/fOuhr7o13PyBbiIJAfXY/xPE+Cksgdj/ZwI05JeZzP8CRfskHJnM/Y9VBCZIlcD/8iSJNp4htP4qyyT1WNGI/WrrmzEWHVD8=\",\"dtype\":\"float64\",\"order\":\"little\",\"shape\":[157]},\"Year\":[2016,2016,2016,2016,2016,2016,2016,2016,2016,2016,2016,2016,2016,2016,2016,2016,2016,2016,2016,2016,2016,2016,2016,2016,2016,2016,2016,2016,2016,2016,2016,2016,2016,2016,2016,2016,2016,2016,2016,2016,2016,2016,2016,2016,2016,2016,2016,2016,2016,2016,2016,2016,2016,2016,2016,2016,2016,2016,2016,2016,2016,2016,2016,2016,2016,2016,2016,2016,2016,2016,2016,2016,2016,2016,2016,2016,2016,2016,2016,2016,2016,2016,2016,2016,2016,2016,2016,2016,2016,2016,2016,2016,2016,2016,2016,2016,2016,2016,2016,2016,2016,2016,2016,2016,2016,2016,2016,2016,2016,2016,2016,2016,2016,2016,2016,2016,2016,2016,2016,2016,2016,2016,2016,2016,2016,2016,2016,2016,2016,2016,2016,2016,2016,2016,2016,2016,2016,2016,2016,2016,2016,2016,2016,2016,2016,2016,2016,2016,2016,2016,2016,2016,2016,2016,2016,2016,2016]},\"selected\":{\"id\":\"43152\"},\"selection_policy\":{\"id\":\"43151\"}},\"id\":\"43079\",\"type\":\"ColumnDataSource\"},{\"attributes\":{},\"id\":\"43105\",\"type\":\"SaveTool\"},{\"attributes\":{\"axis_label\":\"GDP\",\"coordinates\":null,\"formatter\":{\"id\":\"43129\"},\"group\":null,\"major_label_policy\":{\"id\":\"43130\"},\"ticker\":{\"id\":\"43095\"}},\"id\":\"43094\",\"type\":\"LinearAxis\"},{\"attributes\":{\"axis\":{\"id\":\"43098\"},\"coordinates\":null,\"dimension\":1,\"group\":null,\"ticker\":null},\"id\":\"43101\",\"type\":\"Grid\"},{\"attributes\":{\"axis\":{\"id\":\"43094\"},\"coordinates\":null,\"group\":null,\"ticker\":null},\"id\":\"43097\",\"type\":\"Grid\"},{\"attributes\":{\"coordinates\":null,\"group\":null,\"text\":\"Happiness Score_normalized with respect to GDP and Health scores\"},\"id\":\"43084\",\"type\":\"Title\"},{\"attributes\":{\"coordinates\":null,\"data_source\":{\"id\":\"43079\"},\"glyph\":{\"id\":\"43137\"},\"group\":null,\"hover_glyph\":null,\"muted_glyph\":{\"id\":\"43139\"},\"nonselection_glyph\":{\"id\":\"43138\"},\"view\":{\"id\":\"43141\"}},\"id\":\"43140\",\"type\":\"GlyphRenderer\"},{\"attributes\":{\"data\":{\"Corruption\":{\"__ndarray__\":\"BgAAYMA41D/+//9/N6bZP/7//x/CpsM/BwAAIAx91z8EAAAgtXzYP/v//58hF9I//f//f0tk0j8GAACgEYDYP////x/9mdg/AwAAIJhG0z////8fbdK1PxUAAOCVoLk/9f//v7RLzD8EAACgnFzBP/j//5/KGNM/AAAA4Pm10T8GAACAARbQPwIAAIDIZ9Q//v///8X80D8AAABA0xC1PwAAAOBvxNQ/8///P5NwvD/9//8fAuGiPwIAAAA6lq4/DQAAAL7+wD8GAAAAOLfdPw8AAECrl8M/8v//P7vKxj8AAACg58SzPwEAAKAALLI/+///P48Uxj/7//9fiy+gPwEAAOAcV7A/////H20nsj/6//+feh3cPwYAACD35Kc/BAAAAOp/0T/P//8/JVyCP/j//x9Ziss/AAAAwLrKmD8DAAAAYXPQPwEAAEA1y7A/8///P2K6wD/+//+f7u/BP/z////9CLc/AgAAwJddrj////+fPI7PPwAAAGBls5w/AQAAwILgoD////9/ibm4P/L//58c9sQ/8f//nwNNiD/8////RrPCPwQAAGBb57I/AwAAAEszsD/o//9/vaqEP+P//x8M+XE/+f//v+/2rj8CAACg4pfQPxgAAMBSib4/DgAAYJ7iwz8BAABAJRunP/3//1/RFqg//v//H9KYpT8BAADgJB2lP/r//1+zdMc/9///XxcCxD8BAACATbW3P////58ThLk/AAAAgBhQtz8IAACAz8/SPwIAAKDQbbk/AwAAIFfxpD8OAABgbau+PwYAAKATwqI//v///w5MrD/8//9fnBGmPwAAAIDrbK0/+f//32FXlz8fAABgRtW/PwkAACCXXo8/////f32CsD/+//9/lZK2P////9+ld7Y/DAAAQJkqxz/g//8fhCu9PwYAAOATKqY/////PwM1oz/6///fFECQPwAAAAAAAAAAAwAAgMTGsj8AAAAgu9yuPwgAAMACE9I/AgAAwCFvtj8LAACgnL+aP/3//398vMI/7///H1Qxxj8DAABAXzGkPwEAAICGrrI/////n5HYoD////9/+4+yP/7///98M7Y/AQAAgDnbtj8PAADgGEi9P/7//18vooY/BAAAIEszsj8DAADg3ESqPwIAACA296g/AQAAIBVppD8RAABA+au/PwIAAOB62Lc/AAAAYFWMsD/2//9/xffGP/P//x8hK8g/3///39COvT/9//+fzQW0P/n//999crs//f//X813sz/6//8fpy3FPwEAAID82rI/AAAAIIpQmz8DAABgLpy3P/H//5/Oh8E/////n9phtD/+//9fThvQP/r//3/0164/////f1Tfuj/8//8/3aXAP/7//z9kb7E//f//Pz8Atz8AAAAAx/GZP/v//58JlZc/+////z04rT/p//+f0s2+P/7//x/CvME//f//Hzudsj8CAACgFW+rP////1+Farg/DwAAgPx8vj8BAAAgMdmxPwcAAEAUUK8/AQAAoL88uT/9//9/FjKvPwIAAGAdNrE/AAAAoDiRuT/5//+fnhCtPxgAAAAu5r0/BAAAYAbxoz/h//9faGa8P/7//5+Afbg/AwAAIFMi3T/9//+/V1/DP/3//z+t57A/AgAAQLiKtT8BAAAAGfasPw==\",\"dtype\":\"float64\",\"order\":\"little\",\"shape\":[155]},\"Country\":[\"Norway\",\"Denmark\",\"Iceland\",\"Switzerland\",\"Finland\",\"Netherlands\",\"Canada\",\"New Zealand\",\"Sweden\",\"Australia\",\"Israel\",\"Costa Rica\",\"Austria\",\"United States\",\"Ireland\",\"Germany\",\"Belgium\",\"Luxembourg\",\"United Kingdom\",\"Chile\",\"United Arab Emirates\",\"Brazil\",\"Czech Republic\",\"Argentina\",\"Mexico\",\"Singapore\",\"Malta\",\"Uruguay\",\"Guatemala\",\"Panama\",\"France\",\"Thailand\",\"Taiwan Province of China\",\"Spain\",\"Qatar\",\"Colombia\",\"Saudi Arabia\",\"Trinidad and Tobago\",\"Kuwait\",\"Slovakia\",\"Bahrain\",\"Malaysia\",\"Nicaragua\",\"Ecuador\",\"El Salvador\",\"Poland\",\"Uzbekistan\",\"Italy\",\"Russia\",\"Belize\",\"Japan\",\"Lithuania\",\"Algeria\",\"Latvia\",\"South Korea\",\"Moldova\",\"Romania\",\"Bolivia\",\"Turkmenistan\",\"Kazakhstan\",\"North Cyprus\",\"Slovenia\",\"Peru\",\"Mauritius\",\"Cyprus\",\"Estonia\",\"Belarus\",\"Libya\",\"Turkey\",\"Paraguay\",\"Hong Kong S.A.R., China\",\"Philippines\",\"Serbia\",\"Jordan\",\"Hungary\",\"Jamaica\",\"Croatia\",\"Kosovo\",\"China\",\"Pakistan\",\"Indonesia\",\"Venezuela\",\"Montenegro\",\"Morocco\",\"Azerbaijan\",\"Dominican Republic\",\"Greece\",\"Lebanon\",\"Portugal\",\"Bosnia and Herzegovina\",\"Honduras\",\"Macedonia\",\"Somalia\",\"Vietnam\",\"Nigeria\",\"Tajikistan\",\"Bhutan\",\"Kyrgyzstan\",\"Nepal\",\"Mongolia\",\"South Africa\",\"Tunisia\",\"Palestinian Territories\",\"Egypt\",\"Bulgaria\",\"Sierra Leone\",\"Cameroon\",\"Iran\",\"Albania\",\"Bangladesh\",\"Namibia\",\"Kenya\",\"Mozambique\",\"Myanmar\",\"Senegal\",\"Zambia\",\"Iraq\",\"Gabon\",\"Ethiopia\",\"Sri Lanka\",\"Armenia\",\"India\",\"Mauritania\",\"Congo (Brazzaville)\",\"Georgia\",\"Congo (Kinshasa)\",\"Mali\",\"Ivory Coast\",\"Cambodia\",\"Sudan\",\"Ghana\",\"Ukraine\",\"Uganda\",\"Burkina Faso\",\"Niger\",\"Malawi\",\"Chad\",\"Zimbabwe\",\"Lesotho\",\"Angola\",\"Afghanistan\",\"Botswana\",\"Benin\",\"Madagascar\",\"Haiti\",\"Yemen\",\"South Sudan\",\"Liberia\",\"Guinea\",\"Togo\",\"Rwanda\",\"Syria\",\"Tanzania\",\"Burundi\",\"Central African Republic\"],\"Freedom\":{\"__ndarray__\":\"/f//v2FV5D/9//8/PwjkP/z//1+3EeQ/AwAAQJ7X4z/8///fQMbjPwEAAEB4u+I//v//fyOO4z/8//+fZabjPwEAAAATneM/AQAAIF5A4z8JAACgt/vZP/3//z9wkOI//f///yMr4j8BAADABi/gPwEAAIDrVuI/////3xcA4j/+//8/zUXhP/7//1+TF+M//f//vxdD4D/3//9fDR/YP/3//3+Qd+M/+////z3/2z8FAACAqWvfPwIAAOAzpt8/BAAAICtq2j8CAABAS5jhP/3///8t1+I/BAAAoGGK4j8EAAAgfwDhPwEAAODRmeE/BwAAgB4Y3j8AAAAgAZHiP/z//79EItc/CQAAwHgp2j////9/ClXjP/7//18nj94/+P//n7bI3D/8//9/n5jgP/7//7/+w98/BwAAYKzu0j8BAADgBy3hP/r//5+1vtk/+P//f7Ck3D8AAACg9yHdPwAAAGBNrds//P//f6Sm4D/8//9/XxDlPwYAAECwadA/BwAAABDs1z/8//9fMoXhP////58VLuA/AwAAoE77zT/3//+f8t3NP/r///9l2NQ//v//38mB0D/6//+fNdDOP/3//5+MP90/BAAA4CPh4T8AAACg98TaP/v//z9A/9s/AQAAQDMo3j////9/ilLiPwYAAODYzNw/+f//n5hw3z/+//+/JbrWPwEAAOAWqt4/+///f9bn0j/9//+/ks7dP/3//39VP9M/BwAAoPNN3j////+/B2zfPwEAACAUuuI/DgAAwDC3yj/8//9/acfaP/j//x+ygsY/CAAAwAxb3j/9//+/kl7QPwUAAMCOqNA//v//XydC3j8EAACgiBvOPwMAAGBpX9w/EAAAgC22wz/0//+/ZvXIP/v//x9EH9o/AgAAoGJ72T8DAADg0K7hPwEAAODXgbg/+P//vwt30j/8////2ubfPwwAACDiKco/BQAAwPBG1j8AAADApNvUPwAAAMCfROM/AgAAYBZG4j8DAAAg50bZP/z//x8mLt4/BAAAwJgM4D/8///fyh3dP/v////4Ldw/AgAAoKc52T8BAACA+qvePwEAAOAgitI/BQAAoC9N0D8GAADAFw7SP/r//7/FgtI//v///4pl1D/4//8/fYvbPwQAAKDN6c8/////P3lq2D////8/ZZ3ePwIAAKBTpuA/BQAA4BT63D/6////R8XeP/3///+3duA/+P//3+Av2D8DAABg6YrdPwIAAKCxd9I/AAAAADH90z8FAADAeiraPwEAAIB19eE/DwAAYABiyT////9fRBTeP/3//5/hmbg/+v//v3bX2z8AAADAX83TPw0AAED7M84/+///P4+f0z/7///fN6fcP/7//1+dROQ/7P//nyW2jj/////f3BLbPx8AAGBGe78/AAAAoChd3D8GAABgccLUP/3//x8vRtc//f///+3h3T8QAACgn8fEP/3//59Rh9U//P//P5gA2T8AAAAAAAAAAOj//7+ULrs/BAAAgJEq4D/4//9f+ULbP/7//3+ZN8g/9P//n0YZnz8OAABgbe7PPwIAACDx0sI/BgAA4OxN1T8FAAAAQk/WP////9/mWNg//v///3ae4j8DAADgxN+0PwUAACAN9tg/BQAAwE+rrj8AAADgeVXRPw==\",\"dtype\":\"float64\",\"order\":\"little\",\"shape\":[155]},\"GDP\":{\"__ndarray__\":\"AgAAgAjd+T8QAABA17f3P/z//z+ssPc/EQAAACgK+T8EAADg3hj3PxUAAEAoEPg/7P//P9Kq9z8BAACgxX32P/3//58C6fc/AgAA4CnA9z8FAAAAkQH2P/n//19bwfE/+f//fybL9z////9fer34PxIAACBBkvg/BwAAwIjO9z8TAABgpWv3PwQAAEAA3/s/9///v+4Q9z8PAADgZwv0PwoAAKCABfo/BgAAALi38T8AAABAlqT1PwwAAGD49vI/7P//33Bz8j8RAADAkRP7P/j///8SfvU/FAAA4B978z8DAACgcOfrP/v///9uvfM/9f///w/l9j8CAAAgwAvyPxAAAGAi8PY/EwAAYH4m9j8RAAAAqO79P/X//99EIfE//f//H299+D8VAAAgHcj1P/T//7+SIPo/8///38809T8RAABgidD3Pw0AAIDRqPQ/AwAAgPSX5z8HAABAXAPwPwEAAGD0HO0/AAAAwCmr9D/9//9/hirpP/T//18xUvY/AAAAwCmC9D/8//8/Ig7tP////z+vq/Y/8v//f4cI9T8VAADgRnjxPxMAAMAGLPQ/DQAAYEZt9j/+//9/6FLnPwwAACCie/M//P//PyKu6j/6//9fqRfyP/z//9+KjfQ/DQAA4PKM9T8PAABglHX1PwAAAGBIkPA/DgAAoMMH8z/6//8f7LH1P+7//19SIvU/+///f0KB8j/w//8//KDxPwYAAMAhLPM/AAAAgFjX7T/0////qNP4PwEAAKBFcus/BAAAwOwb8T/+//+fX7bvPxQAAECBk/Q/AAAAgFie7T8OAAAgl4/zP/3//1+Pcu4/+v//f3RM8T/+//8/oULnPwAAAMBz2+8/////3w0O8j8NAAAAJfDxP/7//7+DGew/AwAAICd18j/u//9/HUXxPwcAAKC9ofQ/8///HyYz8T8GAABA9Qr1PwEAAODlb+8/AwAA4Npg5z8BAADgggjxP////1/GL5c//P//H8g76T8DAAAAiBTpP////z90yuA/AwAAwFRV7D8AAAAgPBTjPwAAAMBftd4/EAAA4I5v8D8KAADAC+DwP////7/CHfA/AwAAgIPr5j8BAAAgo6vvP/7//x9WlfI/CAAAYDWU1z8CAAAgyg7iP/f//1+NgvI/AQAAoM/g7z8CAABgG8biPwEAAGCl3O4/AAAAoHLv4T8GAABAuv3NPwEAAEC9ftc//P//v/+s3j8EAADAcV3kP+7//7+zpPE//v//f94r8z8DAADgAbbVP/n//59YKPA//f//P7DR7D8CAABg4FnpP/z//38pwOQ/AgAAAAnj6T/9//8/a2vuPwIAAAAFlLc/CQAAwL153j8DAABALUzjPwQAAOCoQeM/////v8Ia5T/9///f51nlP////x/9oOw/CQAAYFxp2D8CAACAIWrWPwgAACD4ucQ/+f//v23hzT/5//+fZwjcP/f//5/eDdg//v//vzSs4D8BAABgPnjrP/n//3/Nsdk//////xj08T/8//8/55bbP/f//59ektM/CAAAgE+X1z/8//8fEu/iP////3+FbNk/DgAA4IV5vj8OAACAaU3PPwgAAABojNM/AAAAYIiZ1z/9//8/cN7oP/z//585W+A/AgAAoJN0tz8AAAAAAAAAAA==\",\"dtype\":\"float64\",\"order\":\"little\",\"shape\":[155]},\"Generosity\":{\"__ndarray__\":\"CAAAYDUr1z8BAABg6rzWP/v//z9Ab94/+v///1uY0j8FAADA+mvPP/v//1+BHN4/AQAAAOLf2z8DAADACgDgPwQAAKBhqtg/AgAA4J+S3j8BAAAAEyDVP/r//z9yeMs/CQAAIBVB1D8IAADAAiDZP/j//98HYts/BgAAIG+F1T8GAADA5qHNPwEAACCjH9I/BAAAoJyJ3z/4//9/CejUP/z//z+sGdc/BAAAoOHHxD8DAAAgKo62PyMAAMBgBbw/3///nzr5vj/3//9/TiTWP/3//18xZOI/CQAAgJNpxj8AAACArCTSP/T//5+H88o/8///Hw2cwD8AAAAg1U7iPwgAAGD6iNA/BQAAAExWyD/8///feybVPwgAAADoEsM/8///3xTlwj8DAABAqNHUP/f//5+ZOM0/AgAAIEp6wT/y//8/ABrGP/z//3+4qdo/CQAAYKFO0z/w//+f4jbDPwAAACC3CLQ/9v//35xIxD8AAADgeZ/aPxAAAKD4HcY/AwAA4FLCqj8SAAAg1bjOP/n//1/b3b4/8v//HzXRhD////+fmcaxPwEAAGD0l8M/8///P050yj8CAABARrnKPwoAAEAuF8E/AAAAgCzfzD/6//+/iv3PP/r//1/42ck/AAAAAAAU0T8HAAAgIA/PP+///9+gO8A/BwAA4IkZ1z8AAAAAO1zRPwIAAIDoULk/CgAAwIvbwz8SAABgJnfDP/z//38m6Kc/DwAAAPiwzD8IAABgP/fXPwAAAEAMxcg/CgAAwBUtzD8OAACArgnGPwIAAKAhErQ/8P//X8LtzT8DAADAj77PPwEAAMDBedQ/CAAAYIp/nT/4//9/RDDUP/3//38Vk+M/AAAAYCClsD8DAAAAJlXJPwYAAMDSfaA/+v///4otpz/1////j+7HPwAAAAAAAAAA+P//38Ls0D8AAADApli4P////z8qDNU/7v//3287zj8AAACgnj3QP/n//18WqtI/AgAA4G4Tzj/+//9/rY/NP/D//58n388/+///3+hW3j8JAABg3G3bP////x/fONk/AQAA4GWp1T8LAABgoNbBPwUAAGBocak/BAAAAHQ6vT/+//+//nbAP+b//582+bw/BwAAoC7B0j/+//8fBz/OPwQAAICWyNg/+v//X5/EyT8BAACgdgzGPwIAAIAJv7M/9///X5d43D8CAACgYp/UPwQAAACD0eo/CQAAoOh7xz/7////PfLPP/H//7+2jck/+///fwlrpj8BAABAeALUPwAAAABPat8/AAAAwHlftT/7//+fDaPNP/v//3/g1sk/EQAAQCrwvj/+//8fC6erP/X//1/di88/CwAAgCZ4xz/1//8/JsLJPwQAAED2stg/CQAAoC1Wxz8CAAAgcXHQP/f//9+vSNE/BAAA4FnZ1D8HAADAKg7QP/b//z8vRc0/BAAAQABh0j8OAABgnqnLP////5/aNcg/DQAA4N4oxD/+///ftRG5PwkAAICx9dM//v//X+ZuuT8DAAAgDp7KPwgAAGC/t8o//v//Xx1P3z8jAAAg86e6PwEAAEBuSNI/BQAAQCcP0T8AAAAAu/LQPxAAAKDkM8k/AgAAoCct0D/+//+/L5jfP/3//98irNY//v//n+4qyj8AAABg4fnRPw==\",\"dtype\":\"float64\",\"order\":\"little\",\"shape\":[155]},\"Health\":{\"__ndarray__\":\"AwAAwEp+6T/8//9fslzpPwEAAIB1rOo/AwAAwM916z8AAACgnuTpPwQAAAA58ek/AwAAQLK06j////8/5SLqPwQAAICHluo/BAAA4B4B6z/8//+fNNTqPwAAAGDmTeg/BAAAoCsX6j/+//+/9MboPwEAAEC96ek/AAAAIAGR6T8AAAAAzy3qP/3//x/5Cus//P//30/F6T/+//9/LTnqPwMAAGDuQec//P///8u64z8EAADAZyToPwAAACCQPuY/AQAA4CW45j8CAADgPWLuP/////9dTeo/AQAAANMD5z8BAABgpUnhPwMAAMDUmOY//P//P90F6z/+//+fLrbkP/3//59RaOk/AAAAgF1y7D/+//+fH7nmP/3///93CuM//v//v37i4j8EAAAAtKPgP/z//781OuQ//f//P7XO5j8CAABAd+bkP/7///8UzeM//P//fynm5D/9//9fu/DlP/3//3+VEuM/////Hxpi5j8EAADgsuPfP////1/1TOs/BAAAwOKD4T8CAAAg8c/cPwQAAMAxO+0//f//n1sg5D/8///fQMPjP/3///8jb+Q//f//v43O7D/8//8f5tziP/7//x/R7OU/BgAAQPVP3j////8/tAPcPwQAAECxZOM/////H2616j/+////dk7pP/z//x9SKuQ/AwAAoI5q5D8DAAAg5wfrP/3//5/RPuY/BAAAwCdo5D8DAACAOaXgPwAAAOBDZ+Q/AAAAwDiJ4j8AAABAkS3uP/7//z/c890/////XzrT5D/+//8/zVjjP/7//38oAuY/BAAAYEGD5D/8//+f9HDmP/z//z+TU+E//////6y55z8EAACgJrvZP/v//5+Xgt8/////P6W/4z8EAADg3lvlPwEAACByIOM/AgAAAAlO4T8CAACgXWXiP/7//z8m7ek//v//v8iF5z8BAADgjHfpP/3//9/ikOY/AgAAwGik4j8BAABgaqPkP+j//19kLr0/BAAAgJHe5D/+////DiStPwMAAIB+7+A//f//f3y83z8BAAAg7bXhPwEAAODWIeA//f//v1zZ4T/6//9fPfLHPwIAAOBun+M/AgAAoPEZ4j8AAADAX6XgP////x+4qeY/7P//PxHLdj8KAADgmwLBPwAAAOBqdeQ/////H6ll5z////9/TxDhPwMAAODQq9U//P//X9nW0z/f//9/tE27PwQAAIACcdk/BAAAQAAz2j/6//8fYoDQPwQAAKCrCeA/BAAAAC/S1j/+//+/Q57WPwAAAGASAeQ/AAAAoJlm5D8JAADguSXdP/7//58pQ9I//v//n6mO0j////+/FsnkP/3//38GgMg/8P//P8atxT8DAABgoOeoPwcAAECSgds/BQAAYHKe0j/4//9/uuvSPwMAACDObeI/AgAAoGLbyz8SAADgyKDLPwUAAKAvL9E/BwAAgG0q1D/8////mw+lP/j///+NL8k/AAAAAAAAAAACAADAYoipP/7//9+1Isc/AgAAgFLf1T/2//8//t7KPwAAAKCoA9g/BQAAIKG/0T/5//+fXdjTP/H///8b7cQ/AwAAoPVtzT8IAABAOdnIPw0AAMAnoc8/+f//3yTk1D/+//9/XgTgP/n//78eVNc/////f/tnwz/z//+fJTmTPw==\",\"dtype\":\"float64\",\"order\":\"little\",\"shape\":[155]},\"Rank\":[1,2,3,4,5,6,7,8,9,10,11,12,13,14,15,16,17,18,19,20,21,22,23,24,25,26,27,28,29,30,31,32,33,34,35,36,37,38,39,40,41,42,43,44,45,46,47,48,49,50,51,52,53,54,55,56,57,58,59,60,61,62,63,64,65,66,67,68,69,70,71,72,73,74,75,76,77,78,79,80,81,82,83,84,85,86,87,88,89,90,91,92,93,94,95,96,97,98,99,100,101,102,103,104,105,106,107,108,109,110,111,112,113,114,115,116,117,118,119,120,121,122,123,124,125,126,127,128,129,130,131,132,133,134,135,136,137,138,139,140,141,142,143,144,145,146,147,148,149,150,151,152,153,154,155],\"Score\":{\"__ndarray__\":\"/v//X+MlHkADAAAghxYeQAQAAKAYBB5AAAAAINv5HUACAACAQeAdQPz//z8Mgh1A////f5VDHUADAABAiUEdQAMAAODQIh1AAwAA4NAiHUACAACgHNocQP3//1/lUBxAAAAA4CQGHEACAAAA1fgbQP///79y6BtABAAAANPNG0ADAABAYpAbQAAAAEC2cxtAAQAA4CLbGkAFAADgpZsaQAEAAECNlxpABQAAgD2KGkD9//+/nW8aQAQAAEBgZRpA////P99PGkD///9fukkaQAUAAOClGxpA/f//X+XQGUD9//9f5dAZQAEAACDZzhlA/f//n5vEGUD8////LLIZQAEAAMAgsBlAAwAAAKycGUAAAAAAAIAZQAAAAGCRbRlAAgAAgEFgGUD+//8/CKwYQAQAACCFaxhA+///H1pkGEAEAACAFlkYQP///x8EVhhAAQAAQLRIGED8//8fMQgYQAUAAGASAxhA+///H1rkF0D////fTeIXQAEAAOAi2xdAAgAAoBzaF0AEAACg8dIXQAUAAIAUrhdABQAA4KWbF0D7//+f7XwXQAIAAGBmZhdAAgAAoBxaF0ACAACgHFoXQAQAAMDMTBdA/f//f8BKF0D///9fukkXQAQAAOCnRhdA////n3A9F0D8//8fMQgXQP////8o3BZABAAAoBiEFkD8//9f53sWQAQAAACqcRZABAAA4KdGFkD+//+fmRkWQAAAAAAAABZAAgAAANX4FUD9////U+MVQP3//99RuBVA/P//33qUFUD7//9fEFgVQPv//5/GSxVA/f//v3Y+FUD+//8/CCwVQAEAACCyHRVAAQAAQI0XFUD+//+/dBMVQAAAAMBJDBVAAAAAAAAAFUACAAAgsPIUQPv//9+j8BRA/f//v53vFEAEAAAghesUQP///79y6BRAAgAAYGbmFEADAAAgrscUQAUAAEBeuhRA/P//H1i5FED8//8/M7MUQPz//7+fmhRA+///n8ZLFED7//+fxksUQAEAAOD7KRRAAgAAoEMLFEAEAACgGAQUQAQAAIAW2RNA+///f+vRE0D9//9f5VATQP3//99ROBNA/v//n5kZE0D7///fo/ASQAEAAOAi2xJA////HwTWEkADAAAgrscSQP3//5+bxBJA/v//v3STEkD+//9/l24SQPv//5/GSxJAAQAAoEU2EkD8//8/MzMSQAUAAIAULhJAAQAAANcjEkD8////VQ4SQPv//5/t/BFA/////yjcEUD9//8/CtcRQAEAAGCPwhFA/v//HwaBEUABAABgj0IRQP////8BKxFAAQAA4PspEUD///8f3SQRQAAAAGC4HhFAAQAAYI/CEED9///fUbgQQP7//z8IrBBA/P///1WOEED+//8/4XoQQP///99NYhBABAAAoPFSEED8//+fxCAQQAMAAACsHBBAAQAAYI/CD0D7//+f7XwPQAAAAAAAAA9ABwAAwMh2DkALAAAAKVwOQPb//58cWg5ABwAAoMQgDkD4//8/iUENQPz//3/pJg1A+f//n/HSDEAIAADAdr4MQPr//z9eugxACgAAgJVDDED8////VQ4MQPv//3/C9QtA/f//n5vEC0AIAAAALbILQAgAAIDAygpA////n3A9B0D3//+fQ4sFQA==\",\"dtype\":\"float64\",\"order\":\"little\",\"shape\":[155]},\"Score_normalized\":{\"__ndarray__\":\"cYiMG+FQnT8HIZ6aozmdP3fekIDAHZ0/eZmcKkIOnT8OcSSEhuecP9vUMQ/9WJw/VKM0BHv6mz/zYy7TYfebPwgZvAHnyJs/CBm8AefImz+Cosqg5lqbPwW71QNLi5o/HQXecTEamj8QYWBSDQaaP+JdWWlD7Zk/xhVeKvvEmT/xf3mHBWiZP2P4dxekPJk/dy3/KctVmD9CWBRWvPWXP3NVncOJ75c/YzWK1GXblz827Y6VHbOXP0momj+fo5c/m4KZKxaDlz9sQBxoynmXPxMSJkYSNJc/HFwutPjClj8cXC60+MKWP70cKIPfv5Y/v9czLWGwlj8xEbzifZSWP9LRtbFkkZY/leu6zvRzlj8IZLlek0iWP3udQRSwLJY/bfnD9IsYlj+kxswv3geVP77RXsNCppQ/z29eZ2qblD8yC+d4X4qUPxCsXa+5hZQ/Awjgj5VxlD8ME3Ij+g+UP57wd/g6CJQ/oClwV8DZkz9A6mkmp9aTP2GIacrOy5M/s+R7AULKkz/Ugnulab+TP7h59kCjh5M/K7N+9r9rkz8u7HZVRT2TP+MiiHgvG5M/hp6N8ZcIkz+Gno3xlwiTP3f6D9Jz9JI/BrsJoVrxkj9Wm4YIzu+SP0i4kg4o65I/+BaMgTbdkj+whpUDpoySP7QbEEMHSpI/wcGakcnEkT8kvKxsZLiRPzT7IkfmqJE/7Cu27tNnkT8voa2VqCORP8R4Ne/s/JA/5RY1kxTykD838TN/i9GQP+8hxyZ5kJA/gjjFWj9akD+1jJwBrf2PP/uDp/N92I8/3zustDWwjz/AtpGAb3iPP0knu68NTY8/66LAKHY6jz9IpadkES6PP4rhpqxgGI8/z9ixnjHzjj+ykLZf6cqOP9ARqv22xI4/b9KjzJ3Bjj/0zLWnOLWOP7IOoxTtq44/94fBUbqljj8c+rEPxUiOPwCyttB8II4/f3Kwn2Mdjj8g7rUYzAqOP6rcy/xtwI0/QWvus9XRjD9Ba+6z1dGMP0sX932Ua4w/cInnO58OjD+yxeaD7viLPyEnDdPJdos/QmMMGxlhiz+FlynKq9qJPw6GP65NkIk/NPgvbFgziT9e4Dd+ZreIPyOVNVZUdog/JlBBANZmiD+qyD+QdDuIP20CWJwoMog/eedYxWydhz9GzXmb3y2HP845fDSFxIY/lO55DHODhj9RMGd5J3qGP3XrciOpaoY/emGKd6xLhj8eFohPmgqGP2DQc0zt1YU/yruCR8VyhT/Ndo7xRmOFP/NqkvpNJYU/p0Gw8P1ehD+X3rXa+aGDP38M0u+0WoM/H83LvptXgz8hiNdoHUiDP74LskKGNYM/OVLZuqUegj8/yPAOqf+BP37H0GF62oE/CXHy752AgT+PpPwpvkWBPxKb525g+4A/O8wKbeXMgD/GcQVlEDWAP0lsF0CrKIA/sJY02+Xpfj/AbzkNMRd+P6ahb4AonXw/ztKFRvH9ej+WQo/IYK16P5K7rQUup3o/pJ2nRaj5eT9fmd8KKFZ3PycJ6YyXBXc/wVIX7oAHdj8IRxv3h8l1P0VJAjMjvXU/qf8yLbJVdD/33kUxkbRzP33NWxUzanM/i7JcPnfVcj+UJW2psJ1yP6M8PAvNwm8/L/5rnkWHVD8AAAAAAAAAAA==\",\"dtype\":\"float64\",\"order\":\"little\",\"shape\":[155]},\"Year\":[2017,2017,2017,2017,2017,2017,2017,2017,2017,2017,2017,2017,2017,2017,2017,2017,2017,2017,2017,2017,2017,2017,2017,2017,2017,2017,2017,2017,2017,2017,2017,2017,2017,2017,2017,2017,2017,2017,2017,2017,2017,2017,2017,2017,2017,2017,2017,2017,2017,2017,2017,2017,2017,2017,2017,2017,2017,2017,2017,2017,2017,2017,2017,2017,2017,2017,2017,2017,2017,2017,2017,2017,2017,2017,2017,2017,2017,2017,2017,2017,2017,2017,2017,2017,2017,2017,2017,2017,2017,2017,2017,2017,2017,2017,2017,2017,2017,2017,2017,2017,2017,2017,2017,2017,2017,2017,2017,2017,2017,2017,2017,2017,2017,2017,2017,2017,2017,2017,2017,2017,2017,2017,2017,2017,2017,2017,2017,2017,2017,2017,2017,2017,2017,2017,2017,2017,2017,2017,2017,2017,2017,2017,2017,2017,2017,2017,2017,2017,2017,2017,2017,2017,2017,2017,2017]},\"selected\":{\"id\":\"43173\"},\"selection_policy\":{\"id\":\"43172\"}},\"id\":\"43080\",\"type\":\"ColumnDataSource\"},{\"attributes\":{\"fill_alpha\":{\"value\":0.4},\"fill_color\":{\"value\":\"olive\"},\"hatch_alpha\":{\"value\":0.4},\"hatch_color\":{\"value\":\"olive\"},\"line_alpha\":{\"value\":0.4},\"line_color\":{\"value\":\"olive\"},\"radius\":{\"field\":\"Score_normalized\"},\"x\":{\"field\":\"GDP\"},\"y\":{\"field\":\"Health\"}},\"id\":\"43119\",\"type\":\"Circle\"},{\"attributes\":{\"label\":{\"value\":\"2016\"},\"renderers\":[{\"id\":\"43140\"}]},\"id\":\"43154\",\"type\":\"LegendItem\"},{\"attributes\":{},\"id\":\"43086\",\"type\":\"DataRange1d\"},{\"attributes\":{\"label\":{\"value\":\"2017\"},\"renderers\":[{\"id\":\"43159\"}]},\"id\":\"43175\",\"type\":\"LegendItem\"},{\"attributes\":{\"fill_alpha\":{\"value\":0.4},\"fill_color\":{\"value\":\"cyan\"},\"hatch_alpha\":{\"value\":0.4},\"hatch_color\":{\"value\":\"cyan\"},\"line_alpha\":{\"value\":0.4},\"line_color\":{\"value\":\"cyan\"},\"radius\":{\"field\":\"Score_normalized\"},\"x\":{\"field\":\"GDP\"},\"y\":{\"field\":\"Health\"}},\"id\":\"43156\",\"type\":\"Circle\"},{\"attributes\":{\"label\":{\"value\":\"2015\"},\"renderers\":[{\"id\":\"43122\"}]},\"id\":\"43135\",\"type\":\"LegendItem\"},{\"attributes\":{},\"id\":\"43088\",\"type\":\"DataRange1d\"},{\"attributes\":{\"fill_alpha\":{\"value\":0.1},\"fill_color\":{\"value\":\"olive\"},\"hatch_alpha\":{\"value\":0.1},\"hatch_color\":{\"value\":\"olive\"},\"line_alpha\":{\"value\":0.1},\"line_color\":{\"value\":\"olive\"},\"radius\":{\"field\":\"Score_normalized\"},\"x\":{\"field\":\"GDP\"},\"y\":{\"field\":\"Health\"}},\"id\":\"43120\",\"type\":\"Circle\"},{\"attributes\":{\"fill_alpha\":{\"value\":0.1},\"fill_color\":{\"value\":\"blue\"},\"hatch_alpha\":{\"value\":0.1},\"hatch_color\":{\"value\":\"blue\"},\"line_alpha\":{\"value\":0.1},\"line_color\":{\"value\":\"blue\"},\"radius\":{\"field\":\"Score_normalized\"},\"x\":{\"field\":\"GDP\"},\"y\":{\"field\":\"Health\"}},\"id\":\"43138\",\"type\":\"Circle\"},{\"attributes\":{},\"id\":\"43126\",\"type\":\"BasicTickFormatter\"},{\"attributes\":{\"fill_alpha\":{\"value\":0.2},\"fill_color\":{\"value\":\"blue\"},\"hatch_alpha\":{\"value\":0.2},\"hatch_color\":{\"value\":\"blue\"},\"line_alpha\":{\"value\":0.2},\"line_color\":{\"value\":\"blue\"},\"radius\":{\"field\":\"Score_normalized\"},\"x\":{\"field\":\"GDP\"},\"y\":{\"field\":\"Health\"}},\"id\":\"43139\",\"type\":\"Circle\"},{\"attributes\":{},\"id\":\"43173\",\"type\":\"Selection\"},{\"attributes\":{},\"id\":\"43099\",\"type\":\"BasicTicker\"},{\"attributes\":{\"fill_alpha\":{\"value\":0.1},\"fill_color\":{\"value\":\"cyan\"},\"hatch_alpha\":{\"value\":0.1},\"hatch_color\":{\"value\":\"cyan\"},\"line_alpha\":{\"value\":0.1},\"line_color\":{\"value\":\"cyan\"},\"radius\":{\"field\":\"Score_normalized\"},\"x\":{\"field\":\"GDP\"},\"y\":{\"field\":\"Health\"}},\"id\":\"43157\",\"type\":\"Circle\"},{\"attributes\":{\"source\":{\"id\":\"43079\"}},\"id\":\"43141\",\"type\":\"CDSView\"},{\"attributes\":{},\"id\":\"43127\",\"type\":\"AllLabels\"},{\"attributes\":{\"coordinates\":null,\"data_source\":{\"id\":\"43080\"},\"glyph\":{\"id\":\"43156\"},\"group\":null,\"hover_glyph\":null,\"muted_glyph\":{\"id\":\"43158\"},\"nonselection_glyph\":{\"id\":\"43157\"},\"view\":{\"id\":\"43160\"}},\"id\":\"43159\",\"type\":\"GlyphRenderer\"},{\"attributes\":{\"fill_alpha\":{\"value\":0.2},\"fill_color\":{\"value\":\"cyan\"},\"hatch_alpha\":{\"value\":0.2},\"hatch_color\":{\"value\":\"cyan\"},\"line_alpha\":{\"value\":0.2},\"line_color\":{\"value\":\"cyan\"},\"radius\":{\"field\":\"Score_normalized\"},\"x\":{\"field\":\"GDP\"},\"y\":{\"field\":\"Health\"}},\"id\":\"43158\",\"type\":\"Circle\"},{\"attributes\":{\"axis_label\":\"Health\",\"coordinates\":null,\"formatter\":{\"id\":\"43126\"},\"group\":null,\"major_label_policy\":{\"id\":\"43127\"},\"ticker\":{\"id\":\"43099\"}},\"id\":\"43098\",\"type\":\"LinearAxis\"},{\"attributes\":{},\"id\":\"43103\",\"type\":\"WheelZoomTool\"},{\"attributes\":{},\"id\":\"43107\",\"type\":\"HelpTool\"},{\"attributes\":{},\"id\":\"43129\",\"type\":\"BasicTickFormatter\"},{\"attributes\":{\"source\":{\"id\":\"43080\"}},\"id\":\"43160\",\"type\":\"CDSView\"},{\"attributes\":{},\"id\":\"43152\",\"type\":\"Selection\"},{\"attributes\":{\"source\":{\"id\":\"43078\"}},\"id\":\"43123\",\"type\":\"CDSView\"},{\"attributes\":{},\"id\":\"43102\",\"type\":\"PanTool\"},{\"attributes\":{},\"id\":\"43130\",\"type\":\"AllLabels\"},{\"attributes\":{\"coordinates\":null,\"data_source\":{\"id\":\"43078\"},\"glyph\":{\"id\":\"43119\"},\"group\":null,\"hover_glyph\":null,\"muted_glyph\":{\"id\":\"43121\"},\"nonselection_glyph\":{\"id\":\"43120\"},\"view\":{\"id\":\"43123\"}},\"id\":\"43122\",\"type\":\"GlyphRenderer\"}],\"root_ids\":[\"43083\"]},\"title\":\"Bokeh Application\",\"version\":\"2.4.2\"}};\n  const render_items = [{\"docid\":\"7c1e9511-50c9-492b-9486-0c0e5a7ce061\",\"root_ids\":[\"43083\"],\"roots\":{\"43083\":\"b7b2cc39-eaa9-4405-9c09-7f703e1d5a53\"}}];\n  root.Bokeh.embed.embed_items_notebook(docs_json, render_items);\n\n  }\n  if (root.Bokeh !== undefined) {\n    embed_document(root);\n  } else {\n    let attempts = 0;\n    const timer = setInterval(function(root) {\n      if (root.Bokeh !== undefined) {\n        clearInterval(timer);\n        embed_document(root);\n      } else {\n        attempts++;\n        if (attempts > 100) {\n          clearInterval(timer);\n          console.log(\"Bokeh: ERROR: Unable to run BokehJS code because BokehJS library is missing\");\n        }\n      }\n    }, 10, root)\n  }\n})(window);",
      "application/vnd.bokehjs_exec.v0+json": ""
     },
     "metadata": {
      "application/vnd.bokehjs_exec.v0+json": {
       "id": "43083"
      }
     },
     "output_type": "display_data"
    }
   ],
   "source": [
    "x = 'GDP'\n",
    "y = 'Health'\n",
    "target = 'Score_normalized'\n",
    "title = f'Happiness {target} with respect to {x} and {y} scores'\n",
    "TOOL_TIPS = [\n",
    "    ('Happiness', '@Score'),\n",
    "    ('Country', '@Country'),\n",
    "    ('(GDP, Health)', '($x, $y)'),\n",
    "    ('Year', '@Year')\n",
    "]\n",
    "plot = plotting.figure(width=1200, height=400, title=title, tooltips=TOOL_TIPS)\n",
    "# plot.scatter(x='GDP', y='Health', source=source_2015, size='Score', color='olive', alpha=0.4)\n",
    "plot.circle(x=x, y=y, source=source_2015, color='olive', radius=target, alpha=0.4, legend_label='2015')\n",
    "plot.circle(x=x, y=y, source=source_2016, color='blue', radius=target, alpha=0.4, legend_label='2016')\n",
    "plot.circle(x=x, y=y, source=source_2017, color='cyan', radius=target, alpha=0.4, legend_label='2017')\n",
    "plot.xaxis.axis_label = x\n",
    "plot.yaxis.axis_label = y\n",
    "plot.legend.click_policy = 'hide'\n",
    "\n",
    "plotting.show(plot)"
   ]
  },
  {
   "cell_type": "markdown",
   "metadata": {},
   "source": [
    "We can see that higher GDP per capita and Life expectancy indicates more happiness"
   ]
  },
  {
   "cell_type": "markdown",
   "metadata": {},
   "source": [
    "#### Questions"
   ]
  },
  {
   "cell_type": "markdown",
   "metadata": {},
   "source": [
    "1) Which countries have the best scores in terms of all the factors?"
   ]
  },
  {
   "cell_type": "code",
   "execution_count": 154,
   "metadata": {},
   "outputs": [],
   "source": [
    "from collections import defaultdict\n",
    "best = defaultdict(dict)\n",
    "\n",
    "columns = ['Score', 'Health', 'Corruption', 'Freedom', 'Generosity']\n",
    "years = [2015, 2016, 2017, 2018, 2019]\n",
    "for year in years:\n",
    "    for column in columns:\n",
    "        country = all_data_merged.loc[all_data_merged['Year']==year, :]\\\n",
    "            .sort_values(by=column, ascending=False)\\\n",
    "            .reset_index(drop=True)\\\n",
    "            .iloc[0, 0]\n",
    "        best[year][column] = country"
   ]
  },
  {
   "cell_type": "code",
   "execution_count": 157,
   "metadata": {},
   "outputs": [
    {
     "data": {
      "text/plain": [
       "defaultdict(dict,\n",
       "            {2015: {'Score': 'Switzerland',\n",
       "              'Health': 'Singapore',\n",
       "              'Corruption': 'Rwanda',\n",
       "              'Freedom': 'Norway',\n",
       "              'Generosity': 'Myanmar'},\n",
       "             2016: {'Score': 'Denmark',\n",
       "              'Health': 'Hong Kong',\n",
       "              'Corruption': 'Rwanda',\n",
       "              'Freedom': 'Uzbekistan',\n",
       "              'Generosity': 'Myanmar'},\n",
       "             2017: {'Score': 'Norway',\n",
       "              'Health': 'Singapore',\n",
       "              'Corruption': 'Singapore',\n",
       "              'Freedom': 'Uzbekistan',\n",
       "              'Generosity': 'Myanmar'},\n",
       "             2018: {'Score': 'Finland',\n",
       "              'Health': 'Hong Kong',\n",
       "              'Corruption': 'Singapore',\n",
       "              'Freedom': 'Uzbekistan',\n",
       "              'Generosity': 'Myanmar'},\n",
       "             2019: {'Score': 'Finland',\n",
       "              'Health': 'Singapore',\n",
       "              'Corruption': 'Singapore',\n",
       "              'Freedom': 'Uzbekistan',\n",
       "              'Generosity': 'Myanmar'}})"
      ]
     },
     "execution_count": 157,
     "metadata": {},
     "output_type": "execute_result"
    }
   ],
   "source": [
    "best"
   ]
  },
  {
   "cell_type": "markdown",
   "metadata": {},
   "source": [
    "- In terms of happiness score, Finland wins twice.\n",
    "- In terms of Health (Life expectancy), Singapore wins 3 times.\n",
    "- In terms of corruption, Singapore wins 3 times, interesting.\n",
    "- In terms of Freedom, Uzbekistan wins 4 times.\n",
    "- In terms of Generosity, Myanmar comes the first one for 5 consecutive years."
   ]
  },
  {
   "cell_type": "markdown",
   "metadata": {},
   "source": [
    "2) How did happiness scores change from 2016 to 2017?\n",
    "- From looking at the bubble charts above, we can say that countries such as Qatar, Luxembourg, Singapore kept their places although their GDP and Life expectancy values increased.\n",
    "- Countries such as Guinea and Liberia still have the least happy people."
   ]
  },
  {
   "cell_type": "markdown",
   "metadata": {},
   "source": [
    "3) Is there any country that had an important increase or decrease in their happiness score?\n",
    "- From the below dataframe, we can see that the biggest change in happiness score occured for Venezuela"
   ]
  },
  {
   "cell_type": "code",
   "execution_count": 178,
   "metadata": {},
   "outputs": [
    {
     "data": {
      "text/html": [
       "<div>\n",
       "<style scoped>\n",
       "    .dataframe tbody tr th:only-of-type {\n",
       "        vertical-align: middle;\n",
       "    }\n",
       "\n",
       "    .dataframe tbody tr th {\n",
       "        vertical-align: top;\n",
       "    }\n",
       "\n",
       "    .dataframe thead th {\n",
       "        text-align: right;\n",
       "    }\n",
       "</style>\n",
       "<table border=\"1\" class=\"dataframe\">\n",
       "  <thead>\n",
       "    <tr style=\"text-align: right;\">\n",
       "      <th></th>\n",
       "      <th>Country</th>\n",
       "      <th>minimum</th>\n",
       "      <th>maximum</th>\n",
       "      <th>difference</th>\n",
       "    </tr>\n",
       "  </thead>\n",
       "  <tbody>\n",
       "    <tr>\n",
       "      <th>0</th>\n",
       "      <td>Venezuela</td>\n",
       "      <td>4.707</td>\n",
       "      <td>6.810</td>\n",
       "      <td>2.103</td>\n",
       "    </tr>\n",
       "    <tr>\n",
       "      <th>1</th>\n",
       "      <td>Benin</td>\n",
       "      <td>3.340</td>\n",
       "      <td>4.883</td>\n",
       "      <td>1.543</td>\n",
       "    </tr>\n",
       "    <tr>\n",
       "      <th>2</th>\n",
       "      <td>Ivory Coast</td>\n",
       "      <td>3.655</td>\n",
       "      <td>4.944</td>\n",
       "      <td>1.289</td>\n",
       "    </tr>\n",
       "    <tr>\n",
       "      <th>3</th>\n",
       "      <td>Togo</td>\n",
       "      <td>2.839</td>\n",
       "      <td>4.085</td>\n",
       "      <td>1.246</td>\n",
       "    </tr>\n",
       "    <tr>\n",
       "      <th>4</th>\n",
       "      <td>Algeria</td>\n",
       "      <td>5.211</td>\n",
       "      <td>6.355</td>\n",
       "      <td>1.144</td>\n",
       "    </tr>\n",
       "    <tr>\n",
       "      <th>...</th>\n",
       "      <td>...</td>\n",
       "      <td>...</td>\n",
       "      <td>...</td>\n",
       "      <td>...</td>\n",
       "    </tr>\n",
       "    <tr>\n",
       "      <th>165</th>\n",
       "      <td>North Macedonia</td>\n",
       "      <td>5.274</td>\n",
       "      <td>5.274</td>\n",
       "      <td>0.000</td>\n",
       "    </tr>\n",
       "    <tr>\n",
       "      <th>166</th>\n",
       "      <td>Gambia</td>\n",
       "      <td>4.516</td>\n",
       "      <td>4.516</td>\n",
       "      <td>0.000</td>\n",
       "    </tr>\n",
       "    <tr>\n",
       "      <th>167</th>\n",
       "      <td>Trinidad &amp; Tobago</td>\n",
       "      <td>6.192</td>\n",
       "      <td>6.192</td>\n",
       "      <td>0.000</td>\n",
       "    </tr>\n",
       "    <tr>\n",
       "      <th>168</th>\n",
       "      <td>Hong Kong S.A.R., China</td>\n",
       "      <td>5.472</td>\n",
       "      <td>5.472</td>\n",
       "      <td>0.000</td>\n",
       "    </tr>\n",
       "    <tr>\n",
       "      <th>169</th>\n",
       "      <td>Somaliland region</td>\n",
       "      <td>5.057</td>\n",
       "      <td>5.057</td>\n",
       "      <td>0.000</td>\n",
       "    </tr>\n",
       "  </tbody>\n",
       "</table>\n",
       "<p>170 rows × 4 columns</p>\n",
       "</div>"
      ],
      "text/plain": [
       "                     Country  minimum  maximum  difference\n",
       "0                  Venezuela    4.707    6.810       2.103\n",
       "1                      Benin    3.340    4.883       1.543\n",
       "2                Ivory Coast    3.655    4.944       1.289\n",
       "3                       Togo    2.839    4.085       1.246\n",
       "4                    Algeria    5.211    6.355       1.144\n",
       "..                       ...      ...      ...         ...\n",
       "165          North Macedonia    5.274    5.274       0.000\n",
       "166                   Gambia    4.516    4.516       0.000\n",
       "167        Trinidad & Tobago    6.192    6.192       0.000\n",
       "168  Hong Kong S.A.R., China    5.472    5.472       0.000\n",
       "169        Somaliland region    5.057    5.057       0.000\n",
       "\n",
       "[170 rows x 4 columns]"
      ]
     },
     "execution_count": 178,
     "metadata": {},
     "output_type": "execute_result"
    }
   ],
   "source": [
    "happiness_difference = all_data_merged.groupby(by=['Country'], as_index=False)\\\n",
    "    .agg(minimum=('Score', np.min), maximum=('Score', np.max))\n",
    "happiness_difference['difference'] = happiness_difference['maximum'] - happiness_difference['minimum']\n",
    "happiness_difference.sort_values(by='difference', ascending=False).reset_index(drop=True)"
   ]
  }
 ],
 "metadata": {
  "interpreter": {
   "hash": "015fe14fd2c054c4bcfd76b83c6f3fea82693eb07c7b48f6780e4e2a069ae2ac"
  },
  "kernelspec": {
   "display_name": "Python 3.6.13 64-bit ('web_and_dl': conda)",
   "language": "python",
   "name": "python3"
  },
  "language_info": {
   "codemirror_mode": {
    "name": "ipython",
    "version": 3
   },
   "file_extension": ".py",
   "mimetype": "text/x-python",
   "name": "python",
   "nbconvert_exporter": "python",
   "pygments_lexer": "ipython3",
   "version": "3.9.7"
  },
  "orig_nbformat": 4
 },
 "nbformat": 4,
 "nbformat_minor": 2
}
